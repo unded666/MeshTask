{
 "cells": [
  {
   "cell_type": "markdown",
   "id": "1bf64dd5-f5b4-42e7-8894-6672e8288e77",
   "metadata": {},
   "source": [
    "# Student Score analytics"
   ]
  },
  {
   "cell_type": "markdown",
   "id": "3891b958-14c3-4cf0-9e12-d99f5a731f5c",
   "metadata": {},
   "source": [
    "## Data Load"
   ]
  },
  {
   "cell_type": "markdown",
   "id": "0d34507e-d0fb-4cf8-97fa-0b2989a3c060",
   "metadata": {},
   "source": [
    "Load in the data and check that is loads in correctly"
   ]
  },
  {
   "cell_type": "code",
   "execution_count": 1,
   "id": "5806ff64-9ec7-442e-bc15-37fe39128a90",
   "metadata": {},
   "outputs": [],
   "source": [
    "import pandas as pd\n",
    "import matplotlib.pyplot as plt\n",
    "from DataLoading import load_data\n",
    "import sklearn\n",
    "import numpy as np"
   ]
  },
  {
   "cell_type": "code",
   "execution_count": 2,
   "id": "9d2de24a-4315-4b2c-9558-8cc49667ed0f",
   "metadata": {},
   "outputs": [],
   "source": [
    "student_df = load_data()"
   ]
  },
  {
   "cell_type": "code",
   "execution_count": 3,
   "id": "bf7f037f-2c48-4c0e-aebe-139bc4916a0d",
   "metadata": {},
   "outputs": [
    {
     "data": {
      "text/plain": [
       "(1000, 8)"
      ]
     },
     "execution_count": 3,
     "metadata": {},
     "output_type": "execute_result"
    }
   ],
   "source": [
    "student_df.shape"
   ]
  },
  {
   "cell_type": "markdown",
   "id": "801587a1-23c0-4ca0-80ea-b5984f5dc920",
   "metadata": {},
   "source": [
    "Data shape matches the shape on the dataset specs"
   ]
  },
  {
   "cell_type": "code",
   "execution_count": 4,
   "id": "14dec941-b423-49c5-89e0-c2cbfbeba48e",
   "metadata": {},
   "outputs": [
    {
     "data": {
      "text/plain": [
       "Index(['gender', 'race_ethnicity', 'parental_level_of_education', 'lunch',\n",
       "       'test_preparation_course', 'math_score', 'reading_score',\n",
       "       'writing_score'],\n",
       "      dtype='object')"
      ]
     },
     "execution_count": 4,
     "metadata": {},
     "output_type": "execute_result"
    }
   ],
   "source": [
    "student_df.columns"
   ]
  },
  {
   "cell_type": "markdown",
   "id": "a8ecc298-814c-49c8-b8d0-4ffa64a5d2c1",
   "metadata": {},
   "source": [
    "Columns match the columns on the specs"
   ]
  },
  {
   "cell_type": "markdown",
   "id": "eafacbf9-9ea4-4be7-8aa9-2336cfb6cd6c",
   "metadata": {},
   "source": [
    "## EDA (Exploratory Data Analysis)"
   ]
  },
  {
   "cell_type": "markdown",
   "id": "cd08afe3-5775-44cb-9b6b-03e40a77b7fa",
   "metadata": {},
   "source": [
    "### Missing Data"
   ]
  },
  {
   "cell_type": "code",
   "execution_count": 5,
   "id": "796d4e4d-aa45-4a66-9ae1-94b10d20b740",
   "metadata": {},
   "outputs": [
    {
     "data": {
      "text/plain": [
       "gender                         0\n",
       "race_ethnicity                 0\n",
       "parental_level_of_education    0\n",
       "lunch                          0\n",
       "test_preparation_course        0\n",
       "math_score                     0\n",
       "reading_score                  0\n",
       "writing_score                  0\n",
       "dtype: int64"
      ]
     },
     "execution_count": 5,
     "metadata": {},
     "output_type": "execute_result"
    }
   ],
   "source": [
    "student_df.isnull().sum()"
   ]
  },
  {
   "cell_type": "markdown",
   "id": "899730a0-50df-4102-b43e-5f4cf38f5620",
   "metadata": {},
   "source": [
    "Well that's a welcome change. No missing data"
   ]
  },
  {
   "cell_type": "markdown",
   "id": "b5a3d675-9869-4054-9925-b01c13deb967",
   "metadata": {},
   "source": [
    "### Basic feel"
   ]
  },
  {
   "cell_type": "code",
   "execution_count": 6,
   "id": "f9df502a-111e-46a0-9625-776d9f5a94fe",
   "metadata": {},
   "outputs": [
    {
     "data": {
      "text/html": [
       "<div>\n",
       "<style scoped>\n",
       "    .dataframe tbody tr th:only-of-type {\n",
       "        vertical-align: middle;\n",
       "    }\n",
       "\n",
       "    .dataframe tbody tr th {\n",
       "        vertical-align: top;\n",
       "    }\n",
       "\n",
       "    .dataframe thead th {\n",
       "        text-align: right;\n",
       "    }\n",
       "</style>\n",
       "<table border=\"1\" class=\"dataframe\">\n",
       "  <thead>\n",
       "    <tr style=\"text-align: right;\">\n",
       "      <th></th>\n",
       "      <th>gender</th>\n",
       "      <th>race_ethnicity</th>\n",
       "      <th>parental_level_of_education</th>\n",
       "      <th>lunch</th>\n",
       "      <th>test_preparation_course</th>\n",
       "      <th>math_score</th>\n",
       "      <th>reading_score</th>\n",
       "      <th>writing_score</th>\n",
       "    </tr>\n",
       "  </thead>\n",
       "  <tbody>\n",
       "    <tr>\n",
       "      <th>0</th>\n",
       "      <td>female</td>\n",
       "      <td>group B</td>\n",
       "      <td>bachelor's degree</td>\n",
       "      <td>standard</td>\n",
       "      <td>none</td>\n",
       "      <td>72</td>\n",
       "      <td>72</td>\n",
       "      <td>74</td>\n",
       "    </tr>\n",
       "    <tr>\n",
       "      <th>1</th>\n",
       "      <td>female</td>\n",
       "      <td>group C</td>\n",
       "      <td>some college</td>\n",
       "      <td>standard</td>\n",
       "      <td>completed</td>\n",
       "      <td>69</td>\n",
       "      <td>90</td>\n",
       "      <td>88</td>\n",
       "    </tr>\n",
       "    <tr>\n",
       "      <th>2</th>\n",
       "      <td>female</td>\n",
       "      <td>group B</td>\n",
       "      <td>master's degree</td>\n",
       "      <td>standard</td>\n",
       "      <td>none</td>\n",
       "      <td>90</td>\n",
       "      <td>95</td>\n",
       "      <td>93</td>\n",
       "    </tr>\n",
       "    <tr>\n",
       "      <th>3</th>\n",
       "      <td>male</td>\n",
       "      <td>group A</td>\n",
       "      <td>associate's degree</td>\n",
       "      <td>free/reduced</td>\n",
       "      <td>none</td>\n",
       "      <td>47</td>\n",
       "      <td>57</td>\n",
       "      <td>44</td>\n",
       "    </tr>\n",
       "    <tr>\n",
       "      <th>4</th>\n",
       "      <td>male</td>\n",
       "      <td>group C</td>\n",
       "      <td>some college</td>\n",
       "      <td>standard</td>\n",
       "      <td>none</td>\n",
       "      <td>76</td>\n",
       "      <td>78</td>\n",
       "      <td>75</td>\n",
       "    </tr>\n",
       "    <tr>\n",
       "      <th>5</th>\n",
       "      <td>female</td>\n",
       "      <td>group B</td>\n",
       "      <td>associate's degree</td>\n",
       "      <td>standard</td>\n",
       "      <td>none</td>\n",
       "      <td>71</td>\n",
       "      <td>83</td>\n",
       "      <td>78</td>\n",
       "    </tr>\n",
       "    <tr>\n",
       "      <th>6</th>\n",
       "      <td>female</td>\n",
       "      <td>group B</td>\n",
       "      <td>some college</td>\n",
       "      <td>standard</td>\n",
       "      <td>completed</td>\n",
       "      <td>88</td>\n",
       "      <td>95</td>\n",
       "      <td>92</td>\n",
       "    </tr>\n",
       "    <tr>\n",
       "      <th>7</th>\n",
       "      <td>male</td>\n",
       "      <td>group B</td>\n",
       "      <td>some college</td>\n",
       "      <td>free/reduced</td>\n",
       "      <td>none</td>\n",
       "      <td>40</td>\n",
       "      <td>43</td>\n",
       "      <td>39</td>\n",
       "    </tr>\n",
       "  </tbody>\n",
       "</table>\n",
       "</div>"
      ],
      "text/plain": [
       "   gender race_ethnicity parental_level_of_education         lunch  \\\n",
       "0  female        group B           bachelor's degree      standard   \n",
       "1  female        group C                some college      standard   \n",
       "2  female        group B             master's degree      standard   \n",
       "3    male        group A          associate's degree  free/reduced   \n",
       "4    male        group C                some college      standard   \n",
       "5  female        group B          associate's degree      standard   \n",
       "6  female        group B                some college      standard   \n",
       "7    male        group B                some college  free/reduced   \n",
       "\n",
       "  test_preparation_course  math_score  reading_score  writing_score  \n",
       "0                    none          72             72             74  \n",
       "1               completed          69             90             88  \n",
       "2                    none          90             95             93  \n",
       "3                    none          47             57             44  \n",
       "4                    none          76             78             75  \n",
       "5                    none          71             83             78  \n",
       "6               completed          88             95             92  \n",
       "7                    none          40             43             39  "
      ]
     },
     "execution_count": 6,
     "metadata": {},
     "output_type": "execute_result"
    }
   ],
   "source": [
    "student_df.head(8)"
   ]
  },
  {
   "cell_type": "markdown",
   "id": "536eb5d3-c232-4108-8127-71f973c1aad8",
   "metadata": {},
   "source": [
    "### Variable analysis"
   ]
  },
  {
   "cell_type": "markdown",
   "id": "19287840-ac64-4129-ba0a-4d41b875ac69",
   "metadata": {},
   "source": [
    "#### gender"
   ]
  },
  {
   "cell_type": "markdown",
   "id": "7e5a42cc-ecf1-48d6-a987-51249e2cf719",
   "metadata": {},
   "source": [
    "##### Value types"
   ]
  },
  {
   "cell_type": "code",
   "execution_count": 7,
   "id": "14c8fd40-19a0-4c59-ba5f-c1e733f8f803",
   "metadata": {},
   "outputs": [
    {
     "data": {
      "text/plain": [
       "str"
      ]
     },
     "execution_count": 7,
     "metadata": {},
     "output_type": "execute_result"
    }
   ],
   "source": [
    "type(student_df.gender[0])"
   ]
  },
  {
   "cell_type": "markdown",
   "id": "487a3dda-2b6e-4231-95a7-2112d7df0d84",
   "metadata": {},
   "source": [
    "String values, how many?"
   ]
  },
  {
   "cell_type": "markdown",
   "id": "00e0c7ac-98b8-4fe3-9a23-1f630ca6c1c8",
   "metadata": {},
   "source": [
    "##### distribution"
   ]
  },
  {
   "cell_type": "code",
   "execution_count": 8,
   "id": "c20f61c0-b3d1-473b-9ee2-76749b6b875c",
   "metadata": {},
   "outputs": [
    {
     "data": {
      "text/plain": [
       "gender\n",
       "female    518\n",
       "male      482\n",
       "Name: count, dtype: int64"
      ]
     },
     "execution_count": 8,
     "metadata": {},
     "output_type": "execute_result"
    }
   ],
   "source": [
    "student_df.gender.value_counts()"
   ]
  },
  {
   "cell_type": "markdown",
   "id": "b2c62dc4-b8a1-4f00-9e90-aa5796f933ea",
   "metadata": {},
   "source": [
    "two types, reasonably evenly split as well"
   ]
  },
  {
   "cell_type": "markdown",
   "id": "31c4c344-8a48-4121-ad44-f4504ab3e700",
   "metadata": {},
   "source": [
    "#### race_ethnicity"
   ]
  },
  {
   "cell_type": "markdown",
   "id": "6c3c117b-19f7-4b3b-aa79-398e9d77b578",
   "metadata": {},
   "source": [
    "This is an ethical landmine. Do the smart thing and delete this feature completely"
   ]
  },
  {
   "cell_type": "code",
   "execution_count": 9,
   "id": "ca0c5209-722d-4c4f-a98e-bccb78b170c7",
   "metadata": {},
   "outputs": [],
   "source": [
    "all_cols = student_df.columns.to_list()\n",
    "all_cols.remove('race_ethnicity')\n",
    "student_df = student_df[all_cols]"
   ]
  },
  {
   "cell_type": "markdown",
   "id": "299747c5-ff48-42dd-9989-627c01eb03bd",
   "metadata": {},
   "source": [
    "#### parental_level_of_education"
   ]
  },
  {
   "cell_type": "code",
   "execution_count": 10,
   "id": "bce28c0c-be59-4264-a8a8-4e579d8ed9c0",
   "metadata": {},
   "outputs": [
    {
     "data": {
      "text/plain": [
       "'parental_level_of_education'"
      ]
     },
     "execution_count": 10,
     "metadata": {},
     "output_type": "execute_result"
    }
   ],
   "source": [
    "all_cols[1]"
   ]
  },
  {
   "cell_type": "code",
   "execution_count": 11,
   "id": "182f9e7b-f498-442c-be07-c4d6d1130c60",
   "metadata": {},
   "outputs": [
    {
     "data": {
      "text/plain": [
       "'parental_level_of_education'"
      ]
     },
     "execution_count": 11,
     "metadata": {},
     "output_type": "execute_result"
    }
   ],
   "source": [
    "feature_of_interest = all_cols[1]\n",
    "feature_of_interest"
   ]
  },
  {
   "cell_type": "code",
   "execution_count": 12,
   "id": "002a831c-cda9-4154-bc20-3fc597dc727f",
   "metadata": {},
   "outputs": [
    {
     "data": {
      "text/plain": [
       "parental_level_of_education\n",
       "some college          226\n",
       "associate's degree    222\n",
       "high school           196\n",
       "some high school      179\n",
       "bachelor's degree     118\n",
       "master's degree        59\n",
       "Name: count, dtype: int64"
      ]
     },
     "execution_count": 12,
     "metadata": {},
     "output_type": "execute_result"
    }
   ],
   "source": [
    "VC = student_df[feature_of_interest].value_counts()\n",
    "VC"
   ]
  },
  {
   "cell_type": "code",
   "execution_count": 13,
   "id": "b349eedf-cf44-4d93-81e9-270476a99ea3",
   "metadata": {},
   "outputs": [
    {
     "data": {
      "text/plain": [
       "['some college',\n",
       " \"associate's degree\",\n",
       " 'high school',\n",
       " 'some high school',\n",
       " \"bachelor's degree\",\n",
       " \"master's degree\"]"
      ]
     },
     "execution_count": 13,
     "metadata": {},
     "output_type": "execute_result"
    }
   ],
   "source": [
    "list(VC.index)"
   ]
  },
  {
   "cell_type": "code",
   "execution_count": 14,
   "id": "ed65e3ad-0b3a-4cde-9a24-9bd3653710e3",
   "metadata": {},
   "outputs": [
    {
     "data": {
      "text/plain": [
       "Text(0.5, 1.0, 'distribution of educational level')"
      ]
     },
     "execution_count": 14,
     "metadata": {},
     "output_type": "execute_result"
    },
    {
     "data": {
      "image/png": "[encoded data removed]",
      "text/plain": [
       "<Figure size 640x480 with 1 Axes>"
      ]
     },
     "metadata": {},
     "output_type": "display_data"
    }
   ],
   "source": [
    "_ = plt.bar(range(6),student_df[feature_of_interest].value_counts())\n",
    "_ = plt.xticks(range(6),list(VC.index), rotation=45)\n",
    "plt.title ('distribution of educational level')"
   ]
  },
  {
   "cell_type": "markdown",
   "id": "e8245f61-2b9b-4ffc-a270-6d95401464f0",
   "metadata": {},
   "source": [
    "Doesn't look like the ordering is correct, should reorder in ascending level of education"
   ]
  },
  {
   "cell_type": "code",
   "execution_count": 15,
   "id": "a3a07e2b-b69e-41ce-b7c0-849b8c2f6271",
   "metadata": {},
   "outputs": [],
   "source": [
    "education_dict= {'some high school': 0,\n",
    "                 'high school': 1,\n",
    "                 \"associate's degree\": 2,\n",
    "                 'some college': 3,\n",
    "                 \"bachelor's degree\": 4,\n",
    "                 \"master's degree\": 5}\n",
    "                 "
   ]
  },
  {
   "cell_type": "markdown",
   "id": "d15db2c4-2fb1-4d46-ab2c-773f610e3cd1",
   "metadata": {},
   "source": [
    "Ugh, painful use of single quotation marks as apostrophes in the data"
   ]
  },
  {
   "cell_type": "code",
   "execution_count": 16,
   "id": "4025f9e9-f3ba-4d3d-ba57-b9e675807f62",
   "metadata": {},
   "outputs": [],
   "source": [
    "from FeatureEngineering import ordinal_encode_feature"
   ]
  },
  {
   "cell_type": "code",
   "execution_count": 17,
   "id": "8d320fec-4d99-4a6c-871f-dda948391b49",
   "metadata": {},
   "outputs": [],
   "source": [
    "student_df = ordinal_encode_feature(student_df, feature_of_interest, education_dict)"
   ]
  },
  {
   "cell_type": "code",
   "execution_count": 18,
   "id": "5a15b7ea-a75f-4257-979c-9a1a2951895c",
   "metadata": {},
   "outputs": [
    {
     "data": {
      "text/html": [
       "<div>\n",
       "<style scoped>\n",
       "    .dataframe tbody tr th:only-of-type {\n",
       "        vertical-align: middle;\n",
       "    }\n",
       "\n",
       "    .dataframe tbody tr th {\n",
       "        vertical-align: top;\n",
       "    }\n",
       "\n",
       "    .dataframe thead th {\n",
       "        text-align: right;\n",
       "    }\n",
       "</style>\n",
       "<table border=\"1\" class=\"dataframe\">\n",
       "  <thead>\n",
       "    <tr style=\"text-align: right;\">\n",
       "      <th></th>\n",
       "      <th>gender</th>\n",
       "      <th>parental_level_of_education</th>\n",
       "      <th>lunch</th>\n",
       "      <th>test_preparation_course</th>\n",
       "      <th>math_score</th>\n",
       "      <th>reading_score</th>\n",
       "      <th>writing_score</th>\n",
       "    </tr>\n",
       "  </thead>\n",
       "  <tbody>\n",
       "    <tr>\n",
       "      <th>0</th>\n",
       "      <td>female</td>\n",
       "      <td>4</td>\n",
       "      <td>standard</td>\n",
       "      <td>none</td>\n",
       "      <td>72</td>\n",
       "      <td>72</td>\n",
       "      <td>74</td>\n",
       "    </tr>\n",
       "    <tr>\n",
       "      <th>1</th>\n",
       "      <td>female</td>\n",
       "      <td>3</td>\n",
       "      <td>standard</td>\n",
       "      <td>completed</td>\n",
       "      <td>69</td>\n",
       "      <td>90</td>\n",
       "      <td>88</td>\n",
       "    </tr>\n",
       "    <tr>\n",
       "      <th>2</th>\n",
       "      <td>female</td>\n",
       "      <td>5</td>\n",
       "      <td>standard</td>\n",
       "      <td>none</td>\n",
       "      <td>90</td>\n",
       "      <td>95</td>\n",
       "      <td>93</td>\n",
       "    </tr>\n",
       "    <tr>\n",
       "      <th>3</th>\n",
       "      <td>male</td>\n",
       "      <td>2</td>\n",
       "      <td>free/reduced</td>\n",
       "      <td>none</td>\n",
       "      <td>47</td>\n",
       "      <td>57</td>\n",
       "      <td>44</td>\n",
       "    </tr>\n",
       "    <tr>\n",
       "      <th>4</th>\n",
       "      <td>male</td>\n",
       "      <td>3</td>\n",
       "      <td>standard</td>\n",
       "      <td>none</td>\n",
       "      <td>76</td>\n",
       "      <td>78</td>\n",
       "      <td>75</td>\n",
       "    </tr>\n",
       "  </tbody>\n",
       "</table>\n",
       "</div>"
      ],
      "text/plain": [
       "   gender  parental_level_of_education         lunch test_preparation_course  \\\n",
       "0  female                            4      standard                    none   \n",
       "1  female                            3      standard               completed   \n",
       "2  female                            5      standard                    none   \n",
       "3    male                            2  free/reduced                    none   \n",
       "4    male                            3      standard                    none   \n",
       "\n",
       "   math_score  reading_score  writing_score  \n",
       "0          72             72             74  \n",
       "1          69             90             88  \n",
       "2          90             95             93  \n",
       "3          47             57             44  \n",
       "4          76             78             75  "
      ]
     },
     "execution_count": 18,
     "metadata": {},
     "output_type": "execute_result"
    }
   ],
   "source": [
    "student_df.head(5)"
   ]
  },
  {
   "cell_type": "code",
   "execution_count": 19,
   "id": "08205190-62c9-4014-8dac-3e385142f3d2",
   "metadata": {},
   "outputs": [],
   "source": [
    "reverse_edu_dict = {val: key for key, val in education_dict.items()}"
   ]
  },
  {
   "cell_type": "code",
   "execution_count": 20,
   "id": "ecc34287-16b9-451d-9b45-e49e223b366d",
   "metadata": {},
   "outputs": [
    {
     "data": {
      "text/plain": [
       "0      4\n",
       "1      3\n",
       "2      5\n",
       "3      2\n",
       "4      3\n",
       "      ..\n",
       "995    5\n",
       "996    1\n",
       "997    1\n",
       "998    3\n",
       "999    3\n",
       "Name: parental_level_of_education, Length: 1000, dtype: int64"
      ]
     },
     "execution_count": 20,
     "metadata": {},
     "output_type": "execute_result"
    }
   ],
   "source": [
    "student_df[feature_of_interest]"
   ]
  },
  {
   "cell_type": "code",
   "execution_count": 21,
   "id": "c454a52e-0e93-4507-bc12-5edd0b23a0a9",
   "metadata": {},
   "outputs": [
    {
     "data": {
      "text/plain": [
       "Text(0.5, 1.0, 'distribution of educational level')"
      ]
     },
     "execution_count": 21,
     "metadata": {},
     "output_type": "execute_result"
    },
    {
     "data": {
      "image/png": "[encoded data removed]",
      "text/plain": [
       "<Figure size 640x480 with 1 Axes>"
      ]
     },
     "metadata": {},
     "output_type": "display_data"
    }
   ],
   "source": [
    "VCi = student_df[feature_of_interest].value_counts().sort_index()\n",
    "XTix = [reverse_edu_dict[key] for key in VCi.index]\n",
    "_ = plt.bar(range(6),VCi.values)\n",
    "_ = plt.xticks(range(6),XTix, rotation=45)\n",
    "plt.title ('distribution of educational level')"
   ]
  },
  {
   "cell_type": "markdown",
   "id": "2fc3bac7-db39-4a42-89ef-2fccf940620f",
   "metadata": {},
   "source": [
    "ok, that looks more understandable. Surprising, but interesting"
   ]
  },
  {
   "cell_type": "markdown",
   "id": "0b935154-b5bd-4e39-8816-1f25f7794546",
   "metadata": {},
   "source": [
    "#### lunch"
   ]
  },
  {
   "cell_type": "code",
   "execution_count": 22,
   "id": "dd03929c-e48d-438c-aaef-5411bd58338d",
   "metadata": {},
   "outputs": [
    {
     "data": {
      "text/plain": [
       "'lunch'"
      ]
     },
     "execution_count": 22,
     "metadata": {},
     "output_type": "execute_result"
    }
   ],
   "source": [
    "feature_of_interest = student_df.columns[2]\n",
    "feature_of_interest"
   ]
  },
  {
   "cell_type": "code",
   "execution_count": 23,
   "id": "6285f541-1f4d-46ec-ae3d-0acb2ffec1b2",
   "metadata": {},
   "outputs": [
    {
     "data": {
      "text/plain": [
       "lunch\n",
       "standard        645\n",
       "free/reduced    355\n",
       "Name: count, dtype: int64"
      ]
     },
     "execution_count": 23,
     "metadata": {},
     "output_type": "execute_result"
    }
   ],
   "source": [
    "student_df[feature_of_interest].value_counts()"
   ]
  },
  {
   "cell_type": "markdown",
   "id": "dc1eb72f-f3cc-48db-b06c-2de9c9b2bb8b",
   "metadata": {},
   "source": [
    "Not exactly balanced, but sizeable enough to work with. Any modelling will need to account for the imbalance"
   ]
  },
  {
   "cell_type": "markdown",
   "id": "f1815dae-d6b4-4ed9-b8f7-b480522c8ee1",
   "metadata": {},
   "source": [
    "#### Test preperation course"
   ]
  },
  {
   "cell_type": "code",
   "execution_count": 24,
   "id": "b4cb76e1-7af2-4394-9033-080f0a38cc1b",
   "metadata": {},
   "outputs": [
    {
     "data": {
      "text/plain": [
       "'test_preparation_course'"
      ]
     },
     "execution_count": 24,
     "metadata": {},
     "output_type": "execute_result"
    }
   ],
   "source": [
    "feature_of_interest = student_df.columns[3]\n",
    "feature_of_interest"
   ]
  },
  {
   "cell_type": "code",
   "execution_count": 25,
   "id": "4c5d424d-dc75-472a-b980-786156cf6836",
   "metadata": {},
   "outputs": [
    {
     "data": {
      "text/plain": [
       "test_preparation_course\n",
       "none         642\n",
       "completed    358\n",
       "Name: count, dtype: int64"
      ]
     },
     "execution_count": 25,
     "metadata": {},
     "output_type": "execute_result"
    }
   ],
   "source": [
    "student_df[feature_of_interest].value_counts()"
   ]
  },
  {
   "cell_type": "markdown",
   "id": "91e2cd6d-0a3a-4362-9f56-8304d5ca6aa5",
   "metadata": {},
   "source": [
    "Not really sure what to do with this one. The feature is imbalanced, and the meaning of the field is ambiguous. <br>\n",
    "The safest move for a version zero is to drop this feature and go back to the data provider for more details when <br>\n",
    "version 1 comes along"
   ]
  },
  {
   "cell_type": "code",
   "execution_count": 26,
   "id": "871bb349-ed54-47df-bcd0-a9b66799b713",
   "metadata": {},
   "outputs": [
    {
     "data": {
      "text/html": [
       "<div>\n",
       "<style scoped>\n",
       "    .dataframe tbody tr th:only-of-type {\n",
       "        vertical-align: middle;\n",
       "    }\n",
       "\n",
       "    .dataframe tbody tr th {\n",
       "        vertical-align: top;\n",
       "    }\n",
       "\n",
       "    .dataframe thead th {\n",
       "        text-align: right;\n",
       "    }\n",
       "</style>\n",
       "<table border=\"1\" class=\"dataframe\">\n",
       "  <thead>\n",
       "    <tr style=\"text-align: right;\">\n",
       "      <th></th>\n",
       "      <th>gender</th>\n",
       "      <th>parental_level_of_education</th>\n",
       "      <th>lunch</th>\n",
       "      <th>math_score</th>\n",
       "      <th>reading_score</th>\n",
       "      <th>writing_score</th>\n",
       "    </tr>\n",
       "  </thead>\n",
       "  <tbody>\n",
       "    <tr>\n",
       "      <th>0</th>\n",
       "      <td>female</td>\n",
       "      <td>4</td>\n",
       "      <td>standard</td>\n",
       "      <td>72</td>\n",
       "      <td>72</td>\n",
       "      <td>74</td>\n",
       "    </tr>\n",
       "    <tr>\n",
       "      <th>1</th>\n",
       "      <td>female</td>\n",
       "      <td>3</td>\n",
       "      <td>standard</td>\n",
       "      <td>69</td>\n",
       "      <td>90</td>\n",
       "      <td>88</td>\n",
       "    </tr>\n",
       "    <tr>\n",
       "      <th>2</th>\n",
       "      <td>female</td>\n",
       "      <td>5</td>\n",
       "      <td>standard</td>\n",
       "      <td>90</td>\n",
       "      <td>95</td>\n",
       "      <td>93</td>\n",
       "    </tr>\n",
       "    <tr>\n",
       "      <th>3</th>\n",
       "      <td>male</td>\n",
       "      <td>2</td>\n",
       "      <td>free/reduced</td>\n",
       "      <td>47</td>\n",
       "      <td>57</td>\n",
       "      <td>44</td>\n",
       "    </tr>\n",
       "    <tr>\n",
       "      <th>4</th>\n",
       "      <td>male</td>\n",
       "      <td>3</td>\n",
       "      <td>standard</td>\n",
       "      <td>76</td>\n",
       "      <td>78</td>\n",
       "      <td>75</td>\n",
       "    </tr>\n",
       "  </tbody>\n",
       "</table>\n",
       "</div>"
      ],
      "text/plain": [
       "   gender  parental_level_of_education         lunch  math_score  \\\n",
       "0  female                            4      standard          72   \n",
       "1  female                            3      standard          69   \n",
       "2  female                            5      standard          90   \n",
       "3    male                            2  free/reduced          47   \n",
       "4    male                            3      standard          76   \n",
       "\n",
       "   reading_score  writing_score  \n",
       "0             72             74  \n",
       "1             90             88  \n",
       "2             95             93  \n",
       "3             57             44  \n",
       "4             78             75  "
      ]
     },
     "execution_count": 26,
     "metadata": {},
     "output_type": "execute_result"
    }
   ],
   "source": [
    "student_df = student_df.drop(columns = [feature_of_interest], axis=1)\n",
    "student_df.head()"
   ]
  },
  {
   "cell_type": "markdown",
   "id": "e26cccec-a306-4a89-9914-fd15925e53c0",
   "metadata": {},
   "source": [
    "#### Math Score"
   ]
  },
  {
   "cell_type": "code",
   "execution_count": 27,
   "id": "20a512ed-b2e2-4b18-a6f3-2cad5678c066",
   "metadata": {},
   "outputs": [
    {
     "data": {
      "text/plain": [
       "'math_score'"
      ]
     },
     "execution_count": 27,
     "metadata": {},
     "output_type": "execute_result"
    }
   ],
   "source": [
    "feature_of_interest = student_df.columns[3]\n",
    "feature_of_interest"
   ]
  },
  {
   "cell_type": "code",
   "execution_count": 28,
   "id": "d63ddd44-8af5-4cba-87e3-59345e9ec467",
   "metadata": {},
   "outputs": [
    {
     "data": {
      "text/plain": [
       "count    1000.00000\n",
       "mean       66.08900\n",
       "std        15.16308\n",
       "min         0.00000\n",
       "25%        57.00000\n",
       "50%        66.00000\n",
       "75%        77.00000\n",
       "max       100.00000\n",
       "Name: math_score, dtype: float64"
      ]
     },
     "execution_count": 28,
     "metadata": {},
     "output_type": "execute_result"
    }
   ],
   "source": [
    "student_df[feature_of_interest].describe()"
   ]
  },
  {
   "cell_type": "code",
   "execution_count": 29,
   "id": "9f1fa007-5f70-4c12-9317-dd4335597d1d",
   "metadata": {},
   "outputs": [
    {
     "data": {
      "text/plain": [
       "Text(0.5, 1.0, 'Math Score distribution')"
      ]
     },
     "execution_count": 29,
     "metadata": {},
     "output_type": "execute_result"
    },
    {
     "data": {
      "image/png": "[encoded data removed]",
      "text/plain": [
       "<Figure size 640x480 with 1 Axes>"
      ]
     },
     "metadata": {},
     "output_type": "display_data"
    }
   ],
   "source": [
    "student_df[feature_of_interest].hist(bins=20)\n",
    "plt.title('Math Score distribution')"
   ]
  },
  {
   "cell_type": "markdown",
   "id": "396752bf-e5c9-41f3-8636-51bba49e4ebe",
   "metadata": {},
   "source": [
    "Nothing worrying about this distribution"
   ]
  },
  {
   "cell_type": "markdown",
   "id": "ff3bd5d5-93ab-40b2-a13c-a6fcf2129963",
   "metadata": {},
   "source": [
    "#### Reading Score"
   ]
  },
  {
   "cell_type": "code",
   "execution_count": 30,
   "id": "56ada239-65be-40a5-8878-5e5819689b10",
   "metadata": {},
   "outputs": [
    {
     "data": {
      "text/plain": [
       "'reading_score'"
      ]
     },
     "execution_count": 30,
     "metadata": {},
     "output_type": "execute_result"
    }
   ],
   "source": [
    "feature_of_interest = student_df.columns[4]\n",
    "feature_of_interest"
   ]
  },
  {
   "cell_type": "code",
   "execution_count": 31,
   "id": "ac9ef5d7-bb52-47b5-afbc-ed50479b40c7",
   "metadata": {},
   "outputs": [
    {
     "data": {
      "text/plain": [
       "count    1000.000000\n",
       "mean       69.169000\n",
       "std        14.600192\n",
       "min        17.000000\n",
       "25%        59.000000\n",
       "50%        70.000000\n",
       "75%        79.000000\n",
       "max       100.000000\n",
       "Name: reading_score, dtype: float64"
      ]
     },
     "execution_count": 31,
     "metadata": {},
     "output_type": "execute_result"
    }
   ],
   "source": [
    "student_df[feature_of_interest].describe()"
   ]
  },
  {
   "cell_type": "code",
   "execution_count": 32,
   "id": "47df425d-58d9-49db-8c54-aba2dbde0fea",
   "metadata": {},
   "outputs": [
    {
     "data": {
      "text/plain": [
       "Text(0.5, 1.0, 'Reading Score distribution')"
      ]
     },
     "execution_count": 32,
     "metadata": {},
     "output_type": "execute_result"
    },
    {
     "data": {
      "image/png": "[encoded data removed]",
      "text/plain": [
       "<Figure size 640x480 with 1 Axes>"
      ]
     },
     "metadata": {},
     "output_type": "display_data"
    }
   ],
   "source": [
    "student_df[feature_of_interest].hist(bins=20)\n",
    "plt.title ('Reading Score distribution')"
   ]
  },
  {
   "cell_type": "markdown",
   "id": "87db304c-d3a0-479f-a267-0c1b5bbcbf62",
   "metadata": {},
   "source": [
    "Interesting. longer left-hand tail on reading, honestly quite surprising"
   ]
  },
  {
   "cell_type": "markdown",
   "id": "8befecad-2d86-4e4b-80a3-fc0972925045",
   "metadata": {},
   "source": [
    "#### Writing Score"
   ]
  },
  {
   "cell_type": "code",
   "execution_count": 33,
   "id": "424a63c5-d038-44cf-a1e4-f72bb455e4ec",
   "metadata": {},
   "outputs": [
    {
     "data": {
      "text/plain": [
       "'writing_score'"
      ]
     },
     "execution_count": 33,
     "metadata": {},
     "output_type": "execute_result"
    }
   ],
   "source": [
    "feature_of_interest = student_df.columns[5]\n",
    "feature_of_interest"
   ]
  },
  {
   "cell_type": "code",
   "execution_count": 34,
   "id": "ad97e2dd-3990-452b-8fd0-6bbfb8e82afa",
   "metadata": {},
   "outputs": [
    {
     "data": {
      "text/plain": [
       "count    1000.000000\n",
       "mean       68.054000\n",
       "std        15.195657\n",
       "min        10.000000\n",
       "25%        57.750000\n",
       "50%        69.000000\n",
       "75%        79.000000\n",
       "max       100.000000\n",
       "Name: writing_score, dtype: float64"
      ]
     },
     "execution_count": 34,
     "metadata": {},
     "output_type": "execute_result"
    }
   ],
   "source": [
    "student_df[feature_of_interest].describe()"
   ]
  },
  {
   "cell_type": "code",
   "execution_count": 35,
   "id": "4618ae6c-4e29-4ac1-8c45-b40c1674b51c",
   "metadata": {},
   "outputs": [
    {
     "data": {
      "text/plain": [
       "Text(0.5, 1.0, 'Writing Score')"
      ]
     },
     "execution_count": 35,
     "metadata": {},
     "output_type": "execute_result"
    },
    {
     "data": {
      "image/png": "[encoded data removed]",
      "text/plain": [
       "<Figure size 640x480 with 1 Axes>"
      ]
     },
     "metadata": {},
     "output_type": "display_data"
    }
   ],
   "source": [
    "student_df[feature_of_interest].hist(bins=20)\n",
    "plt.title('Writing Score')"
   ]
  },
  {
   "cell_type": "markdown",
   "id": "26ab7fc0-6a5e-42b4-be73-59c61ae6bc12",
   "metadata": {},
   "source": [
    "Similar distribution to reading, as would be expected. Also showing the same long left-hand tail"
   ]
  },
  {
   "cell_type": "markdown",
   "id": "7e462971-ba1a-45fe-a822-bc6190c519bf",
   "metadata": {},
   "source": [
    "No outliers in any of the numerical scores, no data cleaning to be done."
   ]
  },
  {
   "cell_type": "markdown",
   "id": "e8ca4d46-cae5-4e2c-8db5-d7b2e0b37577",
   "metadata": {},
   "source": [
    "## Feature Engineering"
   ]
  },
  {
   "cell_type": "markdown",
   "id": "94a0dc5b-2121-4c86-9039-c6f3e2965345",
   "metadata": {},
   "source": [
    "We are looking to predict each of the three scores to see if there's any useful predictive power. "
   ]
  },
  {
   "cell_type": "code",
   "execution_count": 36,
   "id": "dddb9be2-aa16-4910-b5a1-745be58a9a34",
   "metadata": {},
   "outputs": [
    {
     "data": {
      "text/html": [
       "<div>\n",
       "<style scoped>\n",
       "    .dataframe tbody tr th:only-of-type {\n",
       "        vertical-align: middle;\n",
       "    }\n",
       "\n",
       "    .dataframe tbody tr th {\n",
       "        vertical-align: top;\n",
       "    }\n",
       "\n",
       "    .dataframe thead th {\n",
       "        text-align: right;\n",
       "    }\n",
       "</style>\n",
       "<table border=\"1\" class=\"dataframe\">\n",
       "  <thead>\n",
       "    <tr style=\"text-align: right;\">\n",
       "      <th></th>\n",
       "      <th>gender</th>\n",
       "      <th>parental_level_of_education</th>\n",
       "      <th>lunch</th>\n",
       "      <th>math_score</th>\n",
       "      <th>reading_score</th>\n",
       "      <th>writing_score</th>\n",
       "    </tr>\n",
       "  </thead>\n",
       "  <tbody>\n",
       "    <tr>\n",
       "      <th>0</th>\n",
       "      <td>female</td>\n",
       "      <td>4</td>\n",
       "      <td>standard</td>\n",
       "      <td>72</td>\n",
       "      <td>72</td>\n",
       "      <td>74</td>\n",
       "    </tr>\n",
       "    <tr>\n",
       "      <th>1</th>\n",
       "      <td>female</td>\n",
       "      <td>3</td>\n",
       "      <td>standard</td>\n",
       "      <td>69</td>\n",
       "      <td>90</td>\n",
       "      <td>88</td>\n",
       "    </tr>\n",
       "    <tr>\n",
       "      <th>2</th>\n",
       "      <td>female</td>\n",
       "      <td>5</td>\n",
       "      <td>standard</td>\n",
       "      <td>90</td>\n",
       "      <td>95</td>\n",
       "      <td>93</td>\n",
       "    </tr>\n",
       "    <tr>\n",
       "      <th>3</th>\n",
       "      <td>male</td>\n",
       "      <td>2</td>\n",
       "      <td>free/reduced</td>\n",
       "      <td>47</td>\n",
       "      <td>57</td>\n",
       "      <td>44</td>\n",
       "    </tr>\n",
       "    <tr>\n",
       "      <th>4</th>\n",
       "      <td>male</td>\n",
       "      <td>3</td>\n",
       "      <td>standard</td>\n",
       "      <td>76</td>\n",
       "      <td>78</td>\n",
       "      <td>75</td>\n",
       "    </tr>\n",
       "  </tbody>\n",
       "</table>\n",
       "</div>"
      ],
      "text/plain": [
       "   gender  parental_level_of_education         lunch  math_score  \\\n",
       "0  female                            4      standard          72   \n",
       "1  female                            3      standard          69   \n",
       "2  female                            5      standard          90   \n",
       "3    male                            2  free/reduced          47   \n",
       "4    male                            3      standard          76   \n",
       "\n",
       "   reading_score  writing_score  \n",
       "0             72             74  \n",
       "1             90             88  \n",
       "2             95             93  \n",
       "3             57             44  \n",
       "4             78             75  "
      ]
     },
     "execution_count": 36,
     "metadata": {},
     "output_type": "execute_result"
    }
   ],
   "source": [
    "student_df.head()"
   ]
  },
  {
   "cell_type": "markdown",
   "id": "bc14d4ed-59b9-43ba-89a0-6d35b46cd5a3",
   "metadata": {},
   "source": [
    "### one-hot encode gender"
   ]
  },
  {
   "cell_type": "markdown",
   "id": "74c00643-7087-4827-a8d3-0e5a403402cd",
   "metadata": {},
   "source": [
    "Gender has no ordinal properties, and so should be one-hot-encoded"
   ]
  },
  {
   "cell_type": "code",
   "execution_count": 37,
   "id": "e474970e-529f-4ebc-a774-924136e749a8",
   "metadata": {},
   "outputs": [],
   "source": [
    "from FeatureEngineering import one_hot_encode_feature"
   ]
  },
  {
   "cell_type": "code",
   "execution_count": 38,
   "id": "63b6da26-d8cd-452a-aa6b-79bd9f8cdeb6",
   "metadata": {},
   "outputs": [
    {
     "data": {
      "text/html": [
       "<div>\n",
       "<style scoped>\n",
       "    .dataframe tbody tr th:only-of-type {\n",
       "        vertical-align: middle;\n",
       "    }\n",
       "\n",
       "    .dataframe tbody tr th {\n",
       "        vertical-align: top;\n",
       "    }\n",
       "\n",
       "    .dataframe thead th {\n",
       "        text-align: right;\n",
       "    }\n",
       "</style>\n",
       "<table border=\"1\" class=\"dataframe\">\n",
       "  <thead>\n",
       "    <tr style=\"text-align: right;\">\n",
       "      <th></th>\n",
       "      <th>parental_level_of_education</th>\n",
       "      <th>lunch</th>\n",
       "      <th>math_score</th>\n",
       "      <th>reading_score</th>\n",
       "      <th>writing_score</th>\n",
       "      <th>gender_female</th>\n",
       "      <th>gender_male</th>\n",
       "    </tr>\n",
       "  </thead>\n",
       "  <tbody>\n",
       "    <tr>\n",
       "      <th>0</th>\n",
       "      <td>4</td>\n",
       "      <td>standard</td>\n",
       "      <td>72</td>\n",
       "      <td>72</td>\n",
       "      <td>74</td>\n",
       "      <td>True</td>\n",
       "      <td>False</td>\n",
       "    </tr>\n",
       "    <tr>\n",
       "      <th>1</th>\n",
       "      <td>3</td>\n",
       "      <td>standard</td>\n",
       "      <td>69</td>\n",
       "      <td>90</td>\n",
       "      <td>88</td>\n",
       "      <td>True</td>\n",
       "      <td>False</td>\n",
       "    </tr>\n",
       "    <tr>\n",
       "      <th>2</th>\n",
       "      <td>5</td>\n",
       "      <td>standard</td>\n",
       "      <td>90</td>\n",
       "      <td>95</td>\n",
       "      <td>93</td>\n",
       "      <td>True</td>\n",
       "      <td>False</td>\n",
       "    </tr>\n",
       "    <tr>\n",
       "      <th>3</th>\n",
       "      <td>2</td>\n",
       "      <td>free/reduced</td>\n",
       "      <td>47</td>\n",
       "      <td>57</td>\n",
       "      <td>44</td>\n",
       "      <td>False</td>\n",
       "      <td>True</td>\n",
       "    </tr>\n",
       "    <tr>\n",
       "      <th>4</th>\n",
       "      <td>3</td>\n",
       "      <td>standard</td>\n",
       "      <td>76</td>\n",
       "      <td>78</td>\n",
       "      <td>75</td>\n",
       "      <td>False</td>\n",
       "      <td>True</td>\n",
       "    </tr>\n",
       "  </tbody>\n",
       "</table>\n",
       "</div>"
      ],
      "text/plain": [
       "   parental_level_of_education         lunch  math_score  reading_score  \\\n",
       "0                            4      standard          72             72   \n",
       "1                            3      standard          69             90   \n",
       "2                            5      standard          90             95   \n",
       "3                            2  free/reduced          47             57   \n",
       "4                            3      standard          76             78   \n",
       "\n",
       "   writing_score  gender_female  gender_male  \n",
       "0             74           True        False  \n",
       "1             88           True        False  \n",
       "2             93           True        False  \n",
       "3             44          False         True  \n",
       "4             75          False         True  "
      ]
     },
     "execution_count": 38,
     "metadata": {},
     "output_type": "execute_result"
    }
   ],
   "source": [
    "df_gend = one_hot_encode_feature(student_df, 'gender')\n",
    "df_gend.head()"
   ]
  },
  {
   "cell_type": "markdown",
   "id": "077f33e0-a4a4-4f84-9a94-62b3c489ac84",
   "metadata": {},
   "source": [
    "### Ordinal encode lunch"
   ]
  },
  {
   "cell_type": "markdown",
   "id": "dd1dfc30-e40d-450b-b387-a490d656059d",
   "metadata": {},
   "source": [
    "There is clearly a 'better' version of this, so encode in an ordinal fashion, similar to how we've managed<br>\n",
    "the parental level of education"
   ]
  },
  {
   "cell_type": "code",
   "execution_count": 39,
   "id": "3a1297d2-b651-4219-be98-12b1e3a6220f",
   "metadata": {},
   "outputs": [
    {
     "data": {
      "text/plain": [
       "array(['standard', 'free/reduced'], dtype=object)"
      ]
     },
     "execution_count": 39,
     "metadata": {},
     "output_type": "execute_result"
    }
   ],
   "source": [
    "lunch_values = df_gend.lunch.unique()\n",
    "lunch_values"
   ]
  },
  {
   "cell_type": "code",
   "execution_count": 40,
   "id": "e271ef4a-d101-4aca-868e-d0c25d15d445",
   "metadata": {},
   "outputs": [
    {
     "data": {
      "text/plain": [
       "{'free/reduced': 0, 'standard': 1}"
      ]
     },
     "execution_count": 40,
     "metadata": {},
     "output_type": "execute_result"
    }
   ],
   "source": [
    "lunch_dict = {lunch_values[1]: 0,\n",
    "              lunch_values[0]: 1}\n",
    "lunch_dict"
   ]
  },
  {
   "cell_type": "code",
   "execution_count": 41,
   "id": "cc5c1c31-0d35-4a55-9b4f-586f5366a2b2",
   "metadata": {},
   "outputs": [
    {
     "data": {
      "text/html": [
       "<div>\n",
       "<style scoped>\n",
       "    .dataframe tbody tr th:only-of-type {\n",
       "        vertical-align: middle;\n",
       "    }\n",
       "\n",
       "    .dataframe tbody tr th {\n",
       "        vertical-align: top;\n",
       "    }\n",
       "\n",
       "    .dataframe thead th {\n",
       "        text-align: right;\n",
       "    }\n",
       "</style>\n",
       "<table border=\"1\" class=\"dataframe\">\n",
       "  <thead>\n",
       "    <tr style=\"text-align: right;\">\n",
       "      <th></th>\n",
       "      <th>parental_level_of_education</th>\n",
       "      <th>lunch</th>\n",
       "      <th>math_score</th>\n",
       "      <th>reading_score</th>\n",
       "      <th>writing_score</th>\n",
       "      <th>gender_female</th>\n",
       "      <th>gender_male</th>\n",
       "    </tr>\n",
       "  </thead>\n",
       "  <tbody>\n",
       "    <tr>\n",
       "      <th>0</th>\n",
       "      <td>4</td>\n",
       "      <td>1</td>\n",
       "      <td>72</td>\n",
       "      <td>72</td>\n",
       "      <td>74</td>\n",
       "      <td>True</td>\n",
       "      <td>False</td>\n",
       "    </tr>\n",
       "    <tr>\n",
       "      <th>1</th>\n",
       "      <td>3</td>\n",
       "      <td>1</td>\n",
       "      <td>69</td>\n",
       "      <td>90</td>\n",
       "      <td>88</td>\n",
       "      <td>True</td>\n",
       "      <td>False</td>\n",
       "    </tr>\n",
       "    <tr>\n",
       "      <th>2</th>\n",
       "      <td>5</td>\n",
       "      <td>1</td>\n",
       "      <td>90</td>\n",
       "      <td>95</td>\n",
       "      <td>93</td>\n",
       "      <td>True</td>\n",
       "      <td>False</td>\n",
       "    </tr>\n",
       "    <tr>\n",
       "      <th>3</th>\n",
       "      <td>2</td>\n",
       "      <td>0</td>\n",
       "      <td>47</td>\n",
       "      <td>57</td>\n",
       "      <td>44</td>\n",
       "      <td>False</td>\n",
       "      <td>True</td>\n",
       "    </tr>\n",
       "    <tr>\n",
       "      <th>4</th>\n",
       "      <td>3</td>\n",
       "      <td>1</td>\n",
       "      <td>76</td>\n",
       "      <td>78</td>\n",
       "      <td>75</td>\n",
       "      <td>False</td>\n",
       "      <td>True</td>\n",
       "    </tr>\n",
       "  </tbody>\n",
       "</table>\n",
       "</div>"
      ],
      "text/plain": [
       "   parental_level_of_education  lunch  math_score  reading_score  \\\n",
       "0                            4      1          72             72   \n",
       "1                            3      1          69             90   \n",
       "2                            5      1          90             95   \n",
       "3                            2      0          47             57   \n",
       "4                            3      1          76             78   \n",
       "\n",
       "   writing_score  gender_female  gender_male  \n",
       "0             74           True        False  \n",
       "1             88           True        False  \n",
       "2             93           True        False  \n",
       "3             44          False         True  \n",
       "4             75          False         True  "
      ]
     },
     "execution_count": 41,
     "metadata": {},
     "output_type": "execute_result"
    }
   ],
   "source": [
    "df_lunch = ordinal_encode_feature(df_gend, 'lunch', lunch_dict)\n",
    "df_lunch.head()"
   ]
  },
  {
   "cell_type": "markdown",
   "id": "f155a394-7ca6-45f2-b631-f488b860bc2f",
   "metadata": {},
   "source": [
    "### Reorder to keep the target variable(s) on the right"
   ]
  },
  {
   "cell_type": "code",
   "execution_count": 42,
   "id": "e2e2e336-e52c-4ce1-ad8b-e8d2dfa4c814",
   "metadata": {},
   "outputs": [],
   "source": [
    "from FeatureEngineering import move_features_to_end"
   ]
  },
  {
   "cell_type": "code",
   "execution_count": 43,
   "id": "7343d6d1-5fd3-4320-91f5-58eb6d44b284",
   "metadata": {},
   "outputs": [
    {
     "data": {
      "text/html": [
       "<div>\n",
       "<style scoped>\n",
       "    .dataframe tbody tr th:only-of-type {\n",
       "        vertical-align: middle;\n",
       "    }\n",
       "\n",
       "    .dataframe tbody tr th {\n",
       "        vertical-align: top;\n",
       "    }\n",
       "\n",
       "    .dataframe thead th {\n",
       "        text-align: right;\n",
       "    }\n",
       "</style>\n",
       "<table border=\"1\" class=\"dataframe\">\n",
       "  <thead>\n",
       "    <tr style=\"text-align: right;\">\n",
       "      <th></th>\n",
       "      <th>parental_level_of_education</th>\n",
       "      <th>lunch</th>\n",
       "      <th>gender_female</th>\n",
       "      <th>gender_male</th>\n",
       "      <th>math_score</th>\n",
       "      <th>reading_score</th>\n",
       "      <th>writing_score</th>\n",
       "    </tr>\n",
       "  </thead>\n",
       "  <tbody>\n",
       "    <tr>\n",
       "      <th>0</th>\n",
       "      <td>4</td>\n",
       "      <td>1</td>\n",
       "      <td>True</td>\n",
       "      <td>False</td>\n",
       "      <td>72</td>\n",
       "      <td>72</td>\n",
       "      <td>74</td>\n",
       "    </tr>\n",
       "    <tr>\n",
       "      <th>1</th>\n",
       "      <td>3</td>\n",
       "      <td>1</td>\n",
       "      <td>True</td>\n",
       "      <td>False</td>\n",
       "      <td>69</td>\n",
       "      <td>90</td>\n",
       "      <td>88</td>\n",
       "    </tr>\n",
       "    <tr>\n",
       "      <th>2</th>\n",
       "      <td>5</td>\n",
       "      <td>1</td>\n",
       "      <td>True</td>\n",
       "      <td>False</td>\n",
       "      <td>90</td>\n",
       "      <td>95</td>\n",
       "      <td>93</td>\n",
       "    </tr>\n",
       "    <tr>\n",
       "      <th>3</th>\n",
       "      <td>2</td>\n",
       "      <td>0</td>\n",
       "      <td>False</td>\n",
       "      <td>True</td>\n",
       "      <td>47</td>\n",
       "      <td>57</td>\n",
       "      <td>44</td>\n",
       "    </tr>\n",
       "    <tr>\n",
       "      <th>4</th>\n",
       "      <td>3</td>\n",
       "      <td>1</td>\n",
       "      <td>False</td>\n",
       "      <td>True</td>\n",
       "      <td>76</td>\n",
       "      <td>78</td>\n",
       "      <td>75</td>\n",
       "    </tr>\n",
       "  </tbody>\n",
       "</table>\n",
       "</div>"
      ],
      "text/plain": [
       "   parental_level_of_education  lunch  gender_female  gender_male  math_score  \\\n",
       "0                            4      1           True        False          72   \n",
       "1                            3      1           True        False          69   \n",
       "2                            5      1           True        False          90   \n",
       "3                            2      0          False         True          47   \n",
       "4                            3      1          False         True          76   \n",
       "\n",
       "   reading_score  writing_score  \n",
       "0             72             74  \n",
       "1             90             88  \n",
       "2             95             93  \n",
       "3             57             44  \n",
       "4             78             75  "
      ]
     },
     "execution_count": 43,
     "metadata": {},
     "output_type": "execute_result"
    }
   ],
   "source": [
    "target_features = ['math_score', 'reading_score', 'writing_score']\n",
    "df_reshaped = move_features_to_end(df_lunch, target_features)\n",
    "df_reshaped.head()"
   ]
  },
  {
   "cell_type": "markdown",
   "id": "4055523d-fe66-4810-8f2e-51c9f520cbed",
   "metadata": {},
   "source": [
    "Excellent, time for the data processing"
   ]
  },
  {
   "cell_type": "markdown",
   "id": "6fd52630-a1b7-46a0-ace4-3dccb3d487e0",
   "metadata": {},
   "source": [
    "## Data Processing"
   ]
  },
  {
   "cell_type": "markdown",
   "id": "3bbb9bd9-c451-45d1-9175-a5e4e5a0d14c",
   "metadata": {},
   "source": [
    "### extract numpy array"
   ]
  },
  {
   "cell_type": "code",
   "execution_count": 44,
   "id": "6e893d14-7986-4e4d-a9c5-159423abb5af",
   "metadata": {},
   "outputs": [],
   "source": [
    "from DataProcessing import extract_and_shuffle"
   ]
  },
  {
   "cell_type": "code",
   "execution_count": 45,
   "id": "60ddc9d1-8e59-4609-bb86-300feb64c725",
   "metadata": {},
   "outputs": [],
   "source": [
    "FA = extract_and_shuffle(df_reshaped)"
   ]
  },
  {
   "cell_type": "markdown",
   "id": "7525e92a-6e02-4b77-ab5c-dd5fc82d7c48",
   "metadata": {},
   "source": [
    "### scale data"
   ]
  },
  {
   "cell_type": "markdown",
   "id": "457d7006-a4e2-4360-a724-53d0564beb3a",
   "metadata": {},
   "source": [
    "Data needs to be scaled, lets do it"
   ]
  },
  {
   "cell_type": "code",
   "execution_count": 46,
   "id": "5aa8227e-8a9a-4985-9118-fdef43c869c6",
   "metadata": {},
   "outputs": [],
   "source": [
    "from DataProcessing import scale_data, split_data, create_input_target"
   ]
  },
  {
   "cell_type": "code",
   "execution_count": 47,
   "id": "ad66ba59-14d6-40b1-8713-3466bb68b9ed",
   "metadata": {},
   "outputs": [],
   "source": [
    "scaled_data, scaler = scale_data(FA)"
   ]
  },
  {
   "cell_type": "markdown",
   "id": "c0b0587b-647d-494a-9d6b-e53732c6e775",
   "metadata": {},
   "source": [
    "### Separate into training, validation and testing"
   ]
  },
  {
   "cell_type": "code",
   "execution_count": 48,
   "id": "71bf4d4c-8369-41dc-b16b-8d5443f1eed4",
   "metadata": {},
   "outputs": [],
   "source": [
    "train_data, val_data, test_data = split_data(scaled_data)"
   ]
  },
  {
   "cell_type": "code",
   "execution_count": 49,
   "id": "7b8f035a-5207-4378-99db-7a632a3d9e08",
   "metadata": {},
   "outputs": [
    {
     "name": "stdout",
     "output_type": "stream",
     "text": [
      "(700, 7)\n",
      "(150, 7)\n",
      "(150, 7)\n"
     ]
    }
   ],
   "source": [
    "for dat in (train_data, test_data, val_data):\n",
    "    print(dat.shape)"
   ]
  },
  {
   "cell_type": "markdown",
   "id": "32e1bd0c-113b-44f7-a9b2-d457a9ce5fd4",
   "metadata": {},
   "source": [
    "### create training and target matrices / vectors"
   ]
  },
  {
   "cell_type": "markdown",
   "id": "543459d7-09c6-4f29-b298-f12598e48881",
   "metadata": {},
   "source": [
    "default target is the last column, so this is training for writing score"
   ]
  },
  {
   "cell_type": "code",
   "execution_count": 50,
   "id": "21f6eee1-aeee-45e0-9a25-2034610c46fa",
   "metadata": {},
   "outputs": [],
   "source": [
    "train_x, train_y = create_input_target(train_data)\n",
    "val_x, val_y = create_input_target(val_data)\n",
    "test_x, test_y = create_input_target(test_data)"
   ]
  },
  {
   "cell_type": "markdown",
   "id": "d60c10ae-535d-4193-ba80-2d94293d718a",
   "metadata": {},
   "source": [
    "## Model!"
   ]
  },
  {
   "cell_type": "markdown",
   "id": "56fbfbd8-11f4-45ef-ad72-140b8b55c409",
   "metadata": {},
   "source": [
    "### Build a model"
   ]
  },
  {
   "cell_type": "code",
   "execution_count": 51,
   "id": "d76f2133-7ed2-4355-aa93-555d4e2df557",
   "metadata": {},
   "outputs": [],
   "source": [
    "from Modelling import create_feedforward_network"
   ]
  },
  {
   "cell_type": "code",
   "execution_count": 52,
   "id": "fca90287-fea5-400d-aceb-ff867d1a3074",
   "metadata": {},
   "outputs": [
    {
     "name": "stderr",
     "output_type": "stream",
     "text": [
      "C:\\PersonalProjects\\MeshTask\\.venv\\Lib\\site-packages\\keras\\src\\layers\\core\\dense.py:87: UserWarning: Do not pass an `input_shape`/`input_dim` argument to a layer. When using Sequential models, prefer using an `Input(shape)` object as the first layer in the model instead.\n",
      "  super().__init__(activity_regularizer=activity_regularizer, **kwargs)\n"
     ]
    }
   ],
   "source": [
    "NN = create_feedforward_network(input_dim=4, width = 10, depth = 5)"
   ]
  },
  {
   "cell_type": "code",
   "execution_count": 53,
   "id": "c41e9a61-e07a-41e2-9de7-c7a79fbed004",
   "metadata": {},
   "outputs": [
    {
     "data": {
      "text/html": [
       "<pre style=\"white-space:pre;overflow-x:auto;line-height:normal;font-family:Menlo,'DejaVu Sans Mono',consolas,'Courier New',monospace\"><span style=\"font-weight: bold\">Model: \"sequential\"</span>\n",
       "</pre>\n"
      ],
      "text/plain": [
       "\u001b[1mModel: \"sequential\"\u001b[0m\n"
      ]
     },
     "metadata": {},
     "output_type": "display_data"
    },
    {
     "data": {
      "text/html": [
       "<pre style=\"white-space:pre;overflow-x:auto;line-height:normal;font-family:Menlo,'DejaVu Sans Mono',consolas,'Courier New',monospace\">┏━━━━━━━━━━━━━━━━━━━━━━━━━━━━━━━━━━━━━━┳━━━━━━━━━━━━━━━━━━━━━━━━━━━━━┳━━━━━━━━━━━━━━━━━┓\n",
       "┃<span style=\"font-weight: bold\"> Layer (type)                         </span>┃<span style=\"font-weight: bold\"> Output Shape                </span>┃<span style=\"font-weight: bold\">         Param # </span>┃\n",
       "┡━━━━━━━━━━━━━━━━━━━━━━━━━━━━━━━━━━━━━━╇━━━━━━━━━━━━━━━━━━━━━━━━━━━━━╇━━━━━━━━━━━━━━━━━┩\n",
       "│ dense (<span style=\"color: #0087ff; text-decoration-color: #0087ff\">Dense</span>)                        │ (<span style=\"color: #00d7ff; text-decoration-color: #00d7ff\">None</span>, <span style=\"color: #00af00; text-decoration-color: #00af00\">10</span>)                  │              <span style=\"color: #00af00; text-decoration-color: #00af00\">50</span> │\n",
       "├──────────────────────────────────────┼─────────────────────────────┼─────────────────┤\n",
       "│ dense_1 (<span style=\"color: #0087ff; text-decoration-color: #0087ff\">Dense</span>)                      │ (<span style=\"color: #00d7ff; text-decoration-color: #00d7ff\">None</span>, <span style=\"color: #00af00; text-decoration-color: #00af00\">10</span>)                  │             <span style=\"color: #00af00; text-decoration-color: #00af00\">110</span> │\n",
       "├──────────────────────────────────────┼─────────────────────────────┼─────────────────┤\n",
       "│ dense_2 (<span style=\"color: #0087ff; text-decoration-color: #0087ff\">Dense</span>)                      │ (<span style=\"color: #00d7ff; text-decoration-color: #00d7ff\">None</span>, <span style=\"color: #00af00; text-decoration-color: #00af00\">10</span>)                  │             <span style=\"color: #00af00; text-decoration-color: #00af00\">110</span> │\n",
       "├──────────────────────────────────────┼─────────────────────────────┼─────────────────┤\n",
       "│ dense_3 (<span style=\"color: #0087ff; text-decoration-color: #0087ff\">Dense</span>)                      │ (<span style=\"color: #00d7ff; text-decoration-color: #00d7ff\">None</span>, <span style=\"color: #00af00; text-decoration-color: #00af00\">10</span>)                  │             <span style=\"color: #00af00; text-decoration-color: #00af00\">110</span> │\n",
       "├──────────────────────────────────────┼─────────────────────────────┼─────────────────┤\n",
       "│ dense_4 (<span style=\"color: #0087ff; text-decoration-color: #0087ff\">Dense</span>)                      │ (<span style=\"color: #00d7ff; text-decoration-color: #00d7ff\">None</span>, <span style=\"color: #00af00; text-decoration-color: #00af00\">10</span>)                  │             <span style=\"color: #00af00; text-decoration-color: #00af00\">110</span> │\n",
       "├──────────────────────────────────────┼─────────────────────────────┼─────────────────┤\n",
       "│ dense_5 (<span style=\"color: #0087ff; text-decoration-color: #0087ff\">Dense</span>)                      │ (<span style=\"color: #00d7ff; text-decoration-color: #00d7ff\">None</span>, <span style=\"color: #00af00; text-decoration-color: #00af00\">10</span>)                  │             <span style=\"color: #00af00; text-decoration-color: #00af00\">110</span> │\n",
       "├──────────────────────────────────────┼─────────────────────────────┼─────────────────┤\n",
       "│ dense_6 (<span style=\"color: #0087ff; text-decoration-color: #0087ff\">Dense</span>)                      │ (<span style=\"color: #00d7ff; text-decoration-color: #00d7ff\">None</span>, <span style=\"color: #00af00; text-decoration-color: #00af00\">1</span>)                   │              <span style=\"color: #00af00; text-decoration-color: #00af00\">11</span> │\n",
       "└──────────────────────────────────────┴─────────────────────────────┴─────────────────┘\n",
       "</pre>\n"
      ],
      "text/plain": [
       "┏━━━━━━━━━━━━━━━━━━━━━━━━━━━━━━━━━━━━━━┳━━━━━━━━━━━━━━━━━━━━━━━━━━━━━┳━━━━━━━━━━━━━━━━━┓\n",
       "┃\u001b[1m \u001b[0m\u001b[1mLayer (type)                        \u001b[0m\u001b[1m \u001b[0m┃\u001b[1m \u001b[0m\u001b[1mOutput Shape               \u001b[0m\u001b[1m \u001b[0m┃\u001b[1m \u001b[0m\u001b[1m        Param #\u001b[0m\u001b[1m \u001b[0m┃\n",
       "┡━━━━━━━━━━━━━━━━━━━━━━━━━━━━━━━━━━━━━━╇━━━━━━━━━━━━━━━━━━━━━━━━━━━━━╇━━━━━━━━━━━━━━━━━┩\n",
       "│ dense (\u001b[38;5;33mDense\u001b[0m)                        │ (\u001b[38;5;45mNone\u001b[0m, \u001b[38;5;34m10\u001b[0m)                  │              \u001b[38;5;34m50\u001b[0m │\n",
       "├──────────────────────────────────────┼─────────────────────────────┼─────────────────┤\n",
       "│ dense_1 (\u001b[38;5;33mDense\u001b[0m)                      │ (\u001b[38;5;45mNone\u001b[0m, \u001b[38;5;34m10\u001b[0m)                  │             \u001b[38;5;34m110\u001b[0m │\n",
       "├──────────────────────────────────────┼─────────────────────────────┼─────────────────┤\n",
       "│ dense_2 (\u001b[38;5;33mDense\u001b[0m)                      │ (\u001b[38;5;45mNone\u001b[0m, \u001b[38;5;34m10\u001b[0m)                  │             \u001b[38;5;34m110\u001b[0m │\n",
       "├──────────────────────────────────────┼─────────────────────────────┼─────────────────┤\n",
       "│ dense_3 (\u001b[38;5;33mDense\u001b[0m)                      │ (\u001b[38;5;45mNone\u001b[0m, \u001b[38;5;34m10\u001b[0m)                  │             \u001b[38;5;34m110\u001b[0m │\n",
       "├──────────────────────────────────────┼─────────────────────────────┼─────────────────┤\n",
       "│ dense_4 (\u001b[38;5;33mDense\u001b[0m)                      │ (\u001b[38;5;45mNone\u001b[0m, \u001b[38;5;34m10\u001b[0m)                  │             \u001b[38;5;34m110\u001b[0m │\n",
       "├──────────────────────────────────────┼─────────────────────────────┼─────────────────┤\n",
       "│ dense_5 (\u001b[38;5;33mDense\u001b[0m)                      │ (\u001b[38;5;45mNone\u001b[0m, \u001b[38;5;34m10\u001b[0m)                  │             \u001b[38;5;34m110\u001b[0m │\n",
       "├──────────────────────────────────────┼─────────────────────────────┼─────────────────┤\n",
       "│ dense_6 (\u001b[38;5;33mDense\u001b[0m)                      │ (\u001b[38;5;45mNone\u001b[0m, \u001b[38;5;34m1\u001b[0m)                   │              \u001b[38;5;34m11\u001b[0m │\n",
       "└──────────────────────────────────────┴─────────────────────────────┴─────────────────┘\n"
      ]
     },
     "metadata": {},
     "output_type": "display_data"
    },
    {
     "data": {
      "text/html": [
       "<pre style=\"white-space:pre;overflow-x:auto;line-height:normal;font-family:Menlo,'DejaVu Sans Mono',consolas,'Courier New',monospace\"><span style=\"font-weight: bold\"> Total params: </span><span style=\"color: #00af00; text-decoration-color: #00af00\">611</span> (2.39 KB)\n",
       "</pre>\n"
      ],
      "text/plain": [
       "\u001b[1m Total params: \u001b[0m\u001b[38;5;34m611\u001b[0m (2.39 KB)\n"
      ]
     },
     "metadata": {},
     "output_type": "display_data"
    },
    {
     "data": {
      "text/html": [
       "<pre style=\"white-space:pre;overflow-x:auto;line-height:normal;font-family:Menlo,'DejaVu Sans Mono',consolas,'Courier New',monospace\"><span style=\"font-weight: bold\"> Trainable params: </span><span style=\"color: #00af00; text-decoration-color: #00af00\">611</span> (2.39 KB)\n",
       "</pre>\n"
      ],
      "text/plain": [
       "\u001b[1m Trainable params: \u001b[0m\u001b[38;5;34m611\u001b[0m (2.39 KB)\n"
      ]
     },
     "metadata": {},
     "output_type": "display_data"
    },
    {
     "data": {
      "text/html": [
       "<pre style=\"white-space:pre;overflow-x:auto;line-height:normal;font-family:Menlo,'DejaVu Sans Mono',consolas,'Courier New',monospace\"><span style=\"font-weight: bold\"> Non-trainable params: </span><span style=\"color: #00af00; text-decoration-color: #00af00\">0</span> (0.00 B)\n",
       "</pre>\n"
      ],
      "text/plain": [
       "\u001b[1m Non-trainable params: \u001b[0m\u001b[38;5;34m0\u001b[0m (0.00 B)\n"
      ]
     },
     "metadata": {},
     "output_type": "display_data"
    }
   ],
   "source": [
    "NN.summary()"
   ]
  },
  {
   "cell_type": "markdown",
   "id": "3e0bf06b-c2dd-4c58-97a7-8f73ec57d2e6",
   "metadata": {},
   "source": [
    "### Train network"
   ]
  },
  {
   "cell_type": "code",
   "execution_count": null,
   "id": "69bd2979-1c9b-4006-829d-f2bb9ab429ac",
   "metadata": {},
   "outputs": [],
   "source": []
  }
 ],
 "metadata": {
  "kernelspec": {
   "display_name": "MeshEnv",
   "language": "python",
   "name": "meshenv"
  },
  "language_info": {
   "codemirror_mode": {
    "name": "ipython",
    "version": 3
   },
   "file_extension": ".py",
   "mimetype": "text/x-python",
   "name": "python",
   "nbconvert_exporter": "python",
   "pygments_lexer": "ipython3",
   "version": "3.11.5"
  }
 },
 "nbformat": 4,
 "nbformat_minor": 5
}
