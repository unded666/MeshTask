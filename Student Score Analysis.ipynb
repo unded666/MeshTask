{
 "cells": [
  {
   "cell_type": "markdown",
   "id": "1bf64dd5-f5b4-42e7-8894-6672e8288e77",
   "metadata": {},
   "source": [
    "# Student Score analytics"
   ]
  },
  {
   "cell_type": "markdown",
   "id": "3891b958-14c3-4cf0-9e12-d99f5a731f5c",
   "metadata": {},
   "source": [
    "## Data Load"
   ]
  },
  {
   "cell_type": "markdown",
   "id": "0d34507e-d0fb-4cf8-97fa-0b2989a3c060",
   "metadata": {},
   "source": [
    "Load in the data and check that is loads in correctly"
   ]
  },
  {
   "cell_type": "code",
   "execution_count": 1,
   "id": "5806ff64-9ec7-442e-bc15-37fe39128a90",
   "metadata": {},
   "outputs": [],
   "source": [
    "import pandas as pd\n",
    "import matplotlib.pyplot as plt\n",
    "from DataLoading import load_data\n",
    "from FeatureEngineering import one_hot_encode_feature\n",
    "import sklearn\n",
    "import numpy as np"
   ]
  },
  {
   "cell_type": "code",
   "execution_count": 2,
   "id": "9d2de24a-4315-4b2c-9558-8cc49667ed0f",
   "metadata": {},
   "outputs": [],
   "source": [
    "student_df = load_data()"
   ]
  },
  {
   "cell_type": "code",
   "execution_count": 3,
   "id": "bf7f037f-2c48-4c0e-aebe-139bc4916a0d",
   "metadata": {},
   "outputs": [
    {
     "data": {
      "text/plain": [
       "(1000, 8)"
      ]
     },
     "execution_count": 3,
     "metadata": {},
     "output_type": "execute_result"
    }
   ],
   "source": [
    "student_df.shape"
   ]
  },
  {
   "cell_type": "markdown",
   "id": "801587a1-23c0-4ca0-80ea-b5984f5dc920",
   "metadata": {},
   "source": [
    "Data shape matches the shape on the dataset specs"
   ]
  },
  {
   "cell_type": "code",
   "execution_count": 4,
   "id": "14dec941-b423-49c5-89e0-c2cbfbeba48e",
   "metadata": {},
   "outputs": [
    {
     "data": {
      "text/plain": [
       "Index(['gender', 'race_ethnicity', 'parental_level_of_education', 'lunch',\n",
       "       'test_preparation_course', 'math_score', 'reading_score',\n",
       "       'writing_score'],\n",
       "      dtype='object')"
      ]
     },
     "execution_count": 4,
     "metadata": {},
     "output_type": "execute_result"
    }
   ],
   "source": [
    "student_df.columns"
   ]
  },
  {
   "cell_type": "markdown",
   "id": "a8ecc298-814c-49c8-b8d0-4ffa64a5d2c1",
   "metadata": {},
   "source": [
    "Columns match the columns on the specs"
   ]
  },
  {
   "cell_type": "markdown",
   "id": "eafacbf9-9ea4-4be7-8aa9-2336cfb6cd6c",
   "metadata": {},
   "source": [
    "## EDA (Exploratory Data Analysis)"
   ]
  },
  {
   "cell_type": "markdown",
   "id": "cd08afe3-5775-44cb-9b6b-03e40a77b7fa",
   "metadata": {},
   "source": [
    "### Missing Data"
   ]
  },
  {
   "cell_type": "code",
   "execution_count": 5,
   "id": "796d4e4d-aa45-4a66-9ae1-94b10d20b740",
   "metadata": {},
   "outputs": [
    {
     "data": {
      "text/plain": [
       "gender                         0\n",
       "race_ethnicity                 0\n",
       "parental_level_of_education    0\n",
       "lunch                          0\n",
       "test_preparation_course        0\n",
       "math_score                     0\n",
       "reading_score                  0\n",
       "writing_score                  0\n",
       "dtype: int64"
      ]
     },
     "execution_count": 5,
     "metadata": {},
     "output_type": "execute_result"
    }
   ],
   "source": [
    "student_df.isnull().sum()"
   ]
  },
  {
   "cell_type": "markdown",
   "id": "899730a0-50df-4102-b43e-5f4cf38f5620",
   "metadata": {},
   "source": [
    "Well that's a welcome change. No missing data"
   ]
  },
  {
   "cell_type": "markdown",
   "id": "b5a3d675-9869-4054-9925-b01c13deb967",
   "metadata": {},
   "source": [
    "### Basic feel"
   ]
  },
  {
   "cell_type": "code",
   "execution_count": 6,
   "id": "f9df502a-111e-46a0-9625-776d9f5a94fe",
   "metadata": {},
   "outputs": [
    {
     "data": {
      "text/html": [
       "<div>\n",
       "<style scoped>\n",
       "    .dataframe tbody tr th:only-of-type {\n",
       "        vertical-align: middle;\n",
       "    }\n",
       "\n",
       "    .dataframe tbody tr th {\n",
       "        vertical-align: top;\n",
       "    }\n",
       "\n",
       "    .dataframe thead th {\n",
       "        text-align: right;\n",
       "    }\n",
       "</style>\n",
       "<table border=\"1\" class=\"dataframe\">\n",
       "  <thead>\n",
       "    <tr style=\"text-align: right;\">\n",
       "      <th></th>\n",
       "      <th>gender</th>\n",
       "      <th>race_ethnicity</th>\n",
       "      <th>parental_level_of_education</th>\n",
       "      <th>lunch</th>\n",
       "      <th>test_preparation_course</th>\n",
       "      <th>math_score</th>\n",
       "      <th>reading_score</th>\n",
       "      <th>writing_score</th>\n",
       "    </tr>\n",
       "  </thead>\n",
       "  <tbody>\n",
       "    <tr>\n",
       "      <th>0</th>\n",
       "      <td>female</td>\n",
       "      <td>group B</td>\n",
       "      <td>bachelor's degree</td>\n",
       "      <td>standard</td>\n",
       "      <td>none</td>\n",
       "      <td>72</td>\n",
       "      <td>72</td>\n",
       "      <td>74</td>\n",
       "    </tr>\n",
       "    <tr>\n",
       "      <th>1</th>\n",
       "      <td>female</td>\n",
       "      <td>group C</td>\n",
       "      <td>some college</td>\n",
       "      <td>standard</td>\n",
       "      <td>completed</td>\n",
       "      <td>69</td>\n",
       "      <td>90</td>\n",
       "      <td>88</td>\n",
       "    </tr>\n",
       "    <tr>\n",
       "      <th>2</th>\n",
       "      <td>female</td>\n",
       "      <td>group B</td>\n",
       "      <td>master's degree</td>\n",
       "      <td>standard</td>\n",
       "      <td>none</td>\n",
       "      <td>90</td>\n",
       "      <td>95</td>\n",
       "      <td>93</td>\n",
       "    </tr>\n",
       "    <tr>\n",
       "      <th>3</th>\n",
       "      <td>male</td>\n",
       "      <td>group A</td>\n",
       "      <td>associate's degree</td>\n",
       "      <td>free/reduced</td>\n",
       "      <td>none</td>\n",
       "      <td>47</td>\n",
       "      <td>57</td>\n",
       "      <td>44</td>\n",
       "    </tr>\n",
       "    <tr>\n",
       "      <th>4</th>\n",
       "      <td>male</td>\n",
       "      <td>group C</td>\n",
       "      <td>some college</td>\n",
       "      <td>standard</td>\n",
       "      <td>none</td>\n",
       "      <td>76</td>\n",
       "      <td>78</td>\n",
       "      <td>75</td>\n",
       "    </tr>\n",
       "    <tr>\n",
       "      <th>5</th>\n",
       "      <td>female</td>\n",
       "      <td>group B</td>\n",
       "      <td>associate's degree</td>\n",
       "      <td>standard</td>\n",
       "      <td>none</td>\n",
       "      <td>71</td>\n",
       "      <td>83</td>\n",
       "      <td>78</td>\n",
       "    </tr>\n",
       "    <tr>\n",
       "      <th>6</th>\n",
       "      <td>female</td>\n",
       "      <td>group B</td>\n",
       "      <td>some college</td>\n",
       "      <td>standard</td>\n",
       "      <td>completed</td>\n",
       "      <td>88</td>\n",
       "      <td>95</td>\n",
       "      <td>92</td>\n",
       "    </tr>\n",
       "    <tr>\n",
       "      <th>7</th>\n",
       "      <td>male</td>\n",
       "      <td>group B</td>\n",
       "      <td>some college</td>\n",
       "      <td>free/reduced</td>\n",
       "      <td>none</td>\n",
       "      <td>40</td>\n",
       "      <td>43</td>\n",
       "      <td>39</td>\n",
       "    </tr>\n",
       "  </tbody>\n",
       "</table>\n",
       "</div>"
      ],
      "text/plain": [
       "   gender race_ethnicity parental_level_of_education         lunch  \\\n",
       "0  female        group B           bachelor's degree      standard   \n",
       "1  female        group C                some college      standard   \n",
       "2  female        group B             master's degree      standard   \n",
       "3    male        group A          associate's degree  free/reduced   \n",
       "4    male        group C                some college      standard   \n",
       "5  female        group B          associate's degree      standard   \n",
       "6  female        group B                some college      standard   \n",
       "7    male        group B                some college  free/reduced   \n",
       "\n",
       "  test_preparation_course  math_score  reading_score  writing_score  \n",
       "0                    none          72             72             74  \n",
       "1               completed          69             90             88  \n",
       "2                    none          90             95             93  \n",
       "3                    none          47             57             44  \n",
       "4                    none          76             78             75  \n",
       "5                    none          71             83             78  \n",
       "6               completed          88             95             92  \n",
       "7                    none          40             43             39  "
      ]
     },
     "execution_count": 6,
     "metadata": {},
     "output_type": "execute_result"
    }
   ],
   "source": [
    "student_df.head(8)"
   ]
  },
  {
   "cell_type": "markdown",
   "id": "536eb5d3-c232-4108-8127-71f973c1aad8",
   "metadata": {},
   "source": [
    "### Variable analysis"
   ]
  },
  {
   "cell_type": "markdown",
   "id": "19287840-ac64-4129-ba0a-4d41b875ac69",
   "metadata": {},
   "source": [
    "#### gender"
   ]
  },
  {
   "cell_type": "markdown",
   "id": "7e5a42cc-ecf1-48d6-a987-51249e2cf719",
   "metadata": {},
   "source": [
    "##### Value types"
   ]
  },
  {
   "cell_type": "code",
   "execution_count": 7,
   "id": "14c8fd40-19a0-4c59-ba5f-c1e733f8f803",
   "metadata": {},
   "outputs": [
    {
     "data": {
      "text/plain": [
       "str"
      ]
     },
     "execution_count": 7,
     "metadata": {},
     "output_type": "execute_result"
    }
   ],
   "source": [
    "type(student_df.gender[0])"
   ]
  },
  {
   "cell_type": "markdown",
   "id": "487a3dda-2b6e-4231-95a7-2112d7df0d84",
   "metadata": {},
   "source": [
    "String values, how many?"
   ]
  },
  {
   "cell_type": "markdown",
   "id": "00e0c7ac-98b8-4fe3-9a23-1f630ca6c1c8",
   "metadata": {},
   "source": [
    "##### distribution"
   ]
  },
  {
   "cell_type": "code",
   "execution_count": 8,
   "id": "c20f61c0-b3d1-473b-9ee2-76749b6b875c",
   "metadata": {},
   "outputs": [
    {
     "data": {
      "text/plain": [
       "gender\n",
       "female    518\n",
       "male      482\n",
       "Name: count, dtype: int64"
      ]
     },
     "execution_count": 8,
     "metadata": {},
     "output_type": "execute_result"
    }
   ],
   "source": [
    "student_df.gender.value_counts()"
   ]
  },
  {
   "cell_type": "markdown",
   "id": "b2c62dc4-b8a1-4f00-9e90-aa5796f933ea",
   "metadata": {},
   "source": [
    "two types, reasonably evenly split as well"
   ]
  },
  {
   "cell_type": "code",
   "execution_count": 9,
   "id": "354b9b33-d316-4713-a4f4-d97a5d98216c",
   "metadata": {},
   "outputs": [
    {
     "data": {
      "text/plain": [
       "<Axes: >"
      ]
     },
     "execution_count": 9,
     "metadata": {},
     "output_type": "execute_result"
    },
    {
     "data": {
      "image/png": "[encoded data removed]",
      "text/plain": [
       "<Figure size 640x480 with 1 Axes>"
      ]
     },
     "metadata": {},
     "output_type": "display_data"
    }
   ],
   "source": [
    "student_df.groupby('gender').size().plot(kind='pie')"
   ]
  },
  {
   "cell_type": "markdown",
   "id": "31c4c344-8a48-4121-ad44-f4504ab3e700",
   "metadata": {},
   "source": [
    "#### race_ethnicity"
   ]
  },
  {
   "cell_type": "markdown",
   "id": "6c3c117b-19f7-4b3b-aa79-398e9d77b578",
   "metadata": {},
   "source": [
    "This is an ethical landmine. Do the smart thing and delete this feature completely"
   ]
  },
  {
   "cell_type": "code",
   "execution_count": 10,
   "id": "ca0c5209-722d-4c4f-a98e-bccb78b170c7",
   "metadata": {},
   "outputs": [],
   "source": [
    "all_cols = student_df.columns.to_list()\n",
    "all_cols.remove('race_ethnicity')\n",
    "student_df = student_df[all_cols]"
   ]
  },
  {
   "cell_type": "markdown",
   "id": "299747c5-ff48-42dd-9989-627c01eb03bd",
   "metadata": {},
   "source": [
    "#### parental_level_of_education"
   ]
  },
  {
   "cell_type": "code",
   "execution_count": 11,
   "id": "bce28c0c-be59-4264-a8a8-4e579d8ed9c0",
   "metadata": {},
   "outputs": [
    {
     "data": {
      "text/plain": [
       "'parental_level_of_education'"
      ]
     },
     "execution_count": 11,
     "metadata": {},
     "output_type": "execute_result"
    }
   ],
   "source": [
    "all_cols[1]"
   ]
  },
  {
   "cell_type": "code",
   "execution_count": 12,
   "id": "182f9e7b-f498-442c-be07-c4d6d1130c60",
   "metadata": {},
   "outputs": [
    {
     "data": {
      "text/plain": [
       "'parental_level_of_education'"
      ]
     },
     "execution_count": 12,
     "metadata": {},
     "output_type": "execute_result"
    }
   ],
   "source": [
    "feature_of_interest = all_cols[1]\n",
    "feature_of_interest"
   ]
  },
  {
   "cell_type": "code",
   "execution_count": 13,
   "id": "002a831c-cda9-4154-bc20-3fc597dc727f",
   "metadata": {},
   "outputs": [
    {
     "data": {
      "text/plain": [
       "parental_level_of_education\n",
       "some college          226\n",
       "associate's degree    222\n",
       "high school           196\n",
       "some high school      179\n",
       "bachelor's degree     118\n",
       "master's degree        59\n",
       "Name: count, dtype: int64"
      ]
     },
     "execution_count": 13,
     "metadata": {},
     "output_type": "execute_result"
    }
   ],
   "source": [
    "VC = student_df[feature_of_interest].value_counts()\n",
    "VC"
   ]
  },
  {
   "cell_type": "code",
   "execution_count": 14,
   "id": "b349eedf-cf44-4d93-81e9-270476a99ea3",
   "metadata": {},
   "outputs": [
    {
     "data": {
      "text/plain": [
       "['some college',\n",
       " \"associate's degree\",\n",
       " 'high school',\n",
       " 'some high school',\n",
       " \"bachelor's degree\",\n",
       " \"master's degree\"]"
      ]
     },
     "execution_count": 14,
     "metadata": {},
     "output_type": "execute_result"
    }
   ],
   "source": [
    "list(VC.index)"
   ]
  },
  {
   "cell_type": "code",
   "execution_count": 15,
   "id": "ed65e3ad-0b3a-4cde-9a24-9bd3653710e3",
   "metadata": {},
   "outputs": [
    {
     "data": {
      "text/plain": [
       "Text(0.5, 1.0, 'distribution of educational level')"
      ]
     },
     "execution_count": 15,
     "metadata": {},
     "output_type": "execute_result"
    },
    {
     "data": {
      "image/png": "[encoded data removed]",
      "text/plain": [
       "<Figure size 640x480 with 1 Axes>"
      ]
     },
     "metadata": {},
     "output_type": "display_data"
    }
   ],
   "source": [
    "_ = plt.bar(range(6),student_df[feature_of_interest].value_counts())\n",
    "_ = plt.xticks(range(6),list(VC.index), rotation=45)\n",
    "plt.title ('distribution of educational level')"
   ]
  },
  {
   "cell_type": "markdown",
   "id": "e8245f61-2b9b-4ffc-a270-6d95401464f0",
   "metadata": {},
   "source": [
    "Doesn't look like the ordering is correct, should reorder in ascending level of education"
   ]
  },
  {
   "cell_type": "code",
   "execution_count": 16,
   "id": "a3a07e2b-b69e-41ce-b7c0-849b8c2f6271",
   "metadata": {},
   "outputs": [],
   "source": [
    "education_dict= {'some high school': 0,\n",
    "                 'high school': 1,\n",
    "                 \"associate's degree\": 2,\n",
    "                 'some college': 3,\n",
    "                 \"bachelor's degree\": 4,\n",
    "                 \"master's degree\": 5}\n",
    "                 "
   ]
  },
  {
   "cell_type": "markdown",
   "id": "d15db2c4-2fb1-4d46-ab2c-773f610e3cd1",
   "metadata": {},
   "source": [
    "Ugh, painful use of single quotation marks as apostrophes in the data"
   ]
  },
  {
   "cell_type": "code",
   "execution_count": 17,
   "id": "4025f9e9-f3ba-4d3d-ba57-b9e675807f62",
   "metadata": {},
   "outputs": [],
   "source": [
    "from FeatureEngineering import ordinal_encode_feature"
   ]
  },
  {
   "cell_type": "code",
   "execution_count": 18,
   "id": "8d320fec-4d99-4a6c-871f-dda948391b49",
   "metadata": {},
   "outputs": [],
   "source": [
    "student_df = ordinal_encode_feature(student_df, feature_of_interest, education_dict)"
   ]
  },
  {
   "cell_type": "code",
   "execution_count": 19,
   "id": "5a15b7ea-a75f-4257-979c-9a1a2951895c",
   "metadata": {},
   "outputs": [
    {
     "data": {
      "text/html": [
       "<div>\n",
       "<style scoped>\n",
       "    .dataframe tbody tr th:only-of-type {\n",
       "        vertical-align: middle;\n",
       "    }\n",
       "\n",
       "    .dataframe tbody tr th {\n",
       "        vertical-align: top;\n",
       "    }\n",
       "\n",
       "    .dataframe thead th {\n",
       "        text-align: right;\n",
       "    }\n",
       "</style>\n",
       "<table border=\"1\" class=\"dataframe\">\n",
       "  <thead>\n",
       "    <tr style=\"text-align: right;\">\n",
       "      <th></th>\n",
       "      <th>gender</th>\n",
       "      <th>parental_level_of_education</th>\n",
       "      <th>lunch</th>\n",
       "      <th>test_preparation_course</th>\n",
       "      <th>math_score</th>\n",
       "      <th>reading_score</th>\n",
       "      <th>writing_score</th>\n",
       "    </tr>\n",
       "  </thead>\n",
       "  <tbody>\n",
       "    <tr>\n",
       "      <th>0</th>\n",
       "      <td>female</td>\n",
       "      <td>4</td>\n",
       "      <td>standard</td>\n",
       "      <td>none</td>\n",
       "      <td>72</td>\n",
       "      <td>72</td>\n",
       "      <td>74</td>\n",
       "    </tr>\n",
       "    <tr>\n",
       "      <th>1</th>\n",
       "      <td>female</td>\n",
       "      <td>3</td>\n",
       "      <td>standard</td>\n",
       "      <td>completed</td>\n",
       "      <td>69</td>\n",
       "      <td>90</td>\n",
       "      <td>88</td>\n",
       "    </tr>\n",
       "    <tr>\n",
       "      <th>2</th>\n",
       "      <td>female</td>\n",
       "      <td>5</td>\n",
       "      <td>standard</td>\n",
       "      <td>none</td>\n",
       "      <td>90</td>\n",
       "      <td>95</td>\n",
       "      <td>93</td>\n",
       "    </tr>\n",
       "    <tr>\n",
       "      <th>3</th>\n",
       "      <td>male</td>\n",
       "      <td>2</td>\n",
       "      <td>free/reduced</td>\n",
       "      <td>none</td>\n",
       "      <td>47</td>\n",
       "      <td>57</td>\n",
       "      <td>44</td>\n",
       "    </tr>\n",
       "    <tr>\n",
       "      <th>4</th>\n",
       "      <td>male</td>\n",
       "      <td>3</td>\n",
       "      <td>standard</td>\n",
       "      <td>none</td>\n",
       "      <td>76</td>\n",
       "      <td>78</td>\n",
       "      <td>75</td>\n",
       "    </tr>\n",
       "  </tbody>\n",
       "</table>\n",
       "</div>"
      ],
      "text/plain": [
       "   gender  parental_level_of_education         lunch test_preparation_course  \\\n",
       "0  female                            4      standard                    none   \n",
       "1  female                            3      standard               completed   \n",
       "2  female                            5      standard                    none   \n",
       "3    male                            2  free/reduced                    none   \n",
       "4    male                            3      standard                    none   \n",
       "\n",
       "   math_score  reading_score  writing_score  \n",
       "0          72             72             74  \n",
       "1          69             90             88  \n",
       "2          90             95             93  \n",
       "3          47             57             44  \n",
       "4          76             78             75  "
      ]
     },
     "execution_count": 19,
     "metadata": {},
     "output_type": "execute_result"
    }
   ],
   "source": [
    "student_df.head(5)"
   ]
  },
  {
   "cell_type": "code",
   "execution_count": 20,
   "id": "08205190-62c9-4014-8dac-3e385142f3d2",
   "metadata": {},
   "outputs": [],
   "source": [
    "reverse_edu_dict = {val: key for key, val in education_dict.items()}"
   ]
  },
  {
   "cell_type": "code",
   "execution_count": 21,
   "id": "ecc34287-16b9-451d-9b45-e49e223b366d",
   "metadata": {},
   "outputs": [
    {
     "data": {
      "text/plain": [
       "0      4\n",
       "1      3\n",
       "2      5\n",
       "3      2\n",
       "4      3\n",
       "      ..\n",
       "995    5\n",
       "996    1\n",
       "997    1\n",
       "998    3\n",
       "999    3\n",
       "Name: parental_level_of_education, Length: 1000, dtype: int64"
      ]
     },
     "execution_count": 21,
     "metadata": {},
     "output_type": "execute_result"
    }
   ],
   "source": [
    "student_df[feature_of_interest]"
   ]
  },
  {
   "cell_type": "code",
   "execution_count": 22,
   "id": "c454a52e-0e93-4507-bc12-5edd0b23a0a9",
   "metadata": {},
   "outputs": [
    {
     "data": {
      "text/plain": [
       "Text(0.5, 1.0, 'distribution of educational level')"
      ]
     },
     "execution_count": 22,
     "metadata": {},
     "output_type": "execute_result"
    },
    {
     "data": {
      "image/png": "[encoded data removed]",
      "text/plain": [
       "<Figure size 640x480 with 1 Axes>"
      ]
     },
     "metadata": {},
     "output_type": "display_data"
    }
   ],
   "source": [
    "VCi = student_df[feature_of_interest].value_counts().sort_index()\n",
    "XTix = [reverse_edu_dict[key] for key in VCi.index]\n",
    "_ = plt.bar(range(6),VCi.values)\n",
    "_ = plt.xticks(range(6),XTix, rotation=45)\n",
    "plt.title ('distribution of educational level')"
   ]
  },
  {
   "cell_type": "markdown",
   "id": "2fc3bac7-db39-4a42-89ef-2fccf940620f",
   "metadata": {},
   "source": [
    "ok, that looks more understandable. Surprising, but interesting"
   ]
  },
  {
   "cell_type": "markdown",
   "id": "0b935154-b5bd-4e39-8816-1f25f7794546",
   "metadata": {},
   "source": [
    "#### lunch"
   ]
  },
  {
   "cell_type": "code",
   "execution_count": 23,
   "id": "dd03929c-e48d-438c-aaef-5411bd58338d",
   "metadata": {},
   "outputs": [
    {
     "data": {
      "text/plain": [
       "'lunch'"
      ]
     },
     "execution_count": 23,
     "metadata": {},
     "output_type": "execute_result"
    }
   ],
   "source": [
    "feature_of_interest = student_df.columns[2]\n",
    "feature_of_interest"
   ]
  },
  {
   "cell_type": "code",
   "execution_count": 24,
   "id": "6285f541-1f4d-46ec-ae3d-0acb2ffec1b2",
   "metadata": {},
   "outputs": [
    {
     "data": {
      "text/plain": [
       "lunch\n",
       "standard        645\n",
       "free/reduced    355\n",
       "Name: count, dtype: int64"
      ]
     },
     "execution_count": 24,
     "metadata": {},
     "output_type": "execute_result"
    }
   ],
   "source": [
    "student_df[feature_of_interest].value_counts()"
   ]
  },
  {
   "cell_type": "markdown",
   "id": "dc1eb72f-f3cc-48db-b06c-2de9c9b2bb8b",
   "metadata": {},
   "source": [
    "Not exactly balanced, but sizeable enough to work with. Any modelling will need to account for the imbalance"
   ]
  },
  {
   "cell_type": "code",
   "execution_count": 25,
   "id": "0fcd958f-d6a9-4924-a72e-04537304c519",
   "metadata": {},
   "outputs": [
    {
     "data": {
      "text/plain": [
       "<Axes: >"
      ]
     },
     "execution_count": 25,
     "metadata": {},
     "output_type": "execute_result"
    },
    {
     "data": {
      "image/png": "[encoded data removed]",
      "text/plain": [
       "<Figure size 640x480 with 1 Axes>"
      ]
     },
     "metadata": {},
     "output_type": "display_data"
    }
   ],
   "source": [
    "student_df.groupby('lunch').size().plot(kind='pie')"
   ]
  },
  {
   "cell_type": "markdown",
   "id": "f1815dae-d6b4-4ed9-b8f7-b480522c8ee1",
   "metadata": {},
   "source": [
    "#### Test preperation course"
   ]
  },
  {
   "cell_type": "code",
   "execution_count": 27,
   "id": "b4cb76e1-7af2-4394-9033-080f0a38cc1b",
   "metadata": {},
   "outputs": [
    {
     "data": {
      "text/plain": [
       "'test_preparation_course'"
      ]
     },
     "execution_count": 27,
     "metadata": {},
     "output_type": "execute_result"
    }
   ],
   "source": [
    "feature_of_interest = student_df.columns[3]\n",
    "feature_of_interest"
   ]
  },
  {
   "cell_type": "code",
   "execution_count": 28,
   "id": "4c5d424d-dc75-472a-b980-786156cf6836",
   "metadata": {},
   "outputs": [
    {
     "data": {
      "text/plain": [
       "test_preparation_course\n",
       "none         642\n",
       "completed    358\n",
       "Name: count, dtype: int64"
      ]
     },
     "execution_count": 28,
     "metadata": {},
     "output_type": "execute_result"
    }
   ],
   "source": [
    "student_df[feature_of_interest].value_counts()"
   ]
  },
  {
   "cell_type": "markdown",
   "id": "77ff5021-0a1b-4c10-bcfc-3849664a7e6c",
   "metadata": {},
   "source": [
    "I'm curious as to the bayesian inference of this one on the test scores."
   ]
  },
  {
   "cell_type": "code",
   "execution_count": 29,
   "id": "b8726fc9-3982-48f2-b694-35c5ffc96cea",
   "metadata": {},
   "outputs": [],
   "source": [
    "passfail = lambda x: 'pass' if x >= 50 else 'fail'"
   ]
  },
  {
   "cell_type": "code",
   "execution_count": 30,
   "id": "c8663a9a-af8d-423c-8f87-344d84ded395",
   "metadata": {},
   "outputs": [
    {
     "data": {
      "text/html": [
       "<div>\n",
       "<style scoped>\n",
       "    .dataframe tbody tr th:only-of-type {\n",
       "        vertical-align: middle;\n",
       "    }\n",
       "\n",
       "    .dataframe tbody tr th {\n",
       "        vertical-align: top;\n",
       "    }\n",
       "\n",
       "    .dataframe thead th {\n",
       "        text-align: right;\n",
       "    }\n",
       "</style>\n",
       "<table border=\"1\" class=\"dataframe\">\n",
       "  <thead>\n",
       "    <tr style=\"text-align: right;\">\n",
       "      <th></th>\n",
       "      <th>math_score</th>\n",
       "      <th>math_passed</th>\n",
       "      <th>reading_score</th>\n",
       "      <th>reading_passed</th>\n",
       "      <th>writing_score</th>\n",
       "      <th>writing_passed</th>\n",
       "    </tr>\n",
       "  </thead>\n",
       "  <tbody>\n",
       "    <tr>\n",
       "      <th>0</th>\n",
       "      <td>72</td>\n",
       "      <td>pass</td>\n",
       "      <td>72</td>\n",
       "      <td>pass</td>\n",
       "      <td>74</td>\n",
       "      <td>pass</td>\n",
       "    </tr>\n",
       "    <tr>\n",
       "      <th>1</th>\n",
       "      <td>69</td>\n",
       "      <td>pass</td>\n",
       "      <td>90</td>\n",
       "      <td>pass</td>\n",
       "      <td>88</td>\n",
       "      <td>pass</td>\n",
       "    </tr>\n",
       "    <tr>\n",
       "      <th>2</th>\n",
       "      <td>90</td>\n",
       "      <td>pass</td>\n",
       "      <td>95</td>\n",
       "      <td>pass</td>\n",
       "      <td>93</td>\n",
       "      <td>pass</td>\n",
       "    </tr>\n",
       "    <tr>\n",
       "      <th>3</th>\n",
       "      <td>47</td>\n",
       "      <td>fail</td>\n",
       "      <td>57</td>\n",
       "      <td>pass</td>\n",
       "      <td>44</td>\n",
       "      <td>fail</td>\n",
       "    </tr>\n",
       "    <tr>\n",
       "      <th>4</th>\n",
       "      <td>76</td>\n",
       "      <td>pass</td>\n",
       "      <td>78</td>\n",
       "      <td>pass</td>\n",
       "      <td>75</td>\n",
       "      <td>pass</td>\n",
       "    </tr>\n",
       "    <tr>\n",
       "      <th>5</th>\n",
       "      <td>71</td>\n",
       "      <td>pass</td>\n",
       "      <td>83</td>\n",
       "      <td>pass</td>\n",
       "      <td>78</td>\n",
       "      <td>pass</td>\n",
       "    </tr>\n",
       "    <tr>\n",
       "      <th>6</th>\n",
       "      <td>88</td>\n",
       "      <td>pass</td>\n",
       "      <td>95</td>\n",
       "      <td>pass</td>\n",
       "      <td>92</td>\n",
       "      <td>pass</td>\n",
       "    </tr>\n",
       "    <tr>\n",
       "      <th>7</th>\n",
       "      <td>40</td>\n",
       "      <td>fail</td>\n",
       "      <td>43</td>\n",
       "      <td>fail</td>\n",
       "      <td>39</td>\n",
       "      <td>fail</td>\n",
       "    </tr>\n",
       "    <tr>\n",
       "      <th>8</th>\n",
       "      <td>64</td>\n",
       "      <td>pass</td>\n",
       "      <td>64</td>\n",
       "      <td>pass</td>\n",
       "      <td>67</td>\n",
       "      <td>pass</td>\n",
       "    </tr>\n",
       "    <tr>\n",
       "      <th>9</th>\n",
       "      <td>38</td>\n",
       "      <td>fail</td>\n",
       "      <td>60</td>\n",
       "      <td>pass</td>\n",
       "      <td>50</td>\n",
       "      <td>pass</td>\n",
       "    </tr>\n",
       "  </tbody>\n",
       "</table>\n",
       "</div>"
      ],
      "text/plain": [
       "   math_score math_passed  reading_score reading_passed  writing_score  \\\n",
       "0          72        pass             72           pass             74   \n",
       "1          69        pass             90           pass             88   \n",
       "2          90        pass             95           pass             93   \n",
       "3          47        fail             57           pass             44   \n",
       "4          76        pass             78           pass             75   \n",
       "5          71        pass             83           pass             78   \n",
       "6          88        pass             95           pass             92   \n",
       "7          40        fail             43           fail             39   \n",
       "8          64        pass             64           pass             67   \n",
       "9          38        fail             60           pass             50   \n",
       "\n",
       "  writing_passed  \n",
       "0           pass  \n",
       "1           pass  \n",
       "2           pass  \n",
       "3           fail  \n",
       "4           pass  \n",
       "5           pass  \n",
       "6           pass  \n",
       "7           fail  \n",
       "8           pass  \n",
       "9           pass  "
      ]
     },
     "execution_count": 30,
     "metadata": {},
     "output_type": "execute_result"
    }
   ],
   "source": [
    "bayesian_df = student_df.copy()\n",
    "bayesian_df['math_passed'] = bayesian_df['math_score'].apply(passfail)\n",
    "bayesian_df['reading_passed'] = bayesian_df['reading_score'].apply(passfail)\n",
    "bayesian_df['writing_passed'] = bayesian_df['writing_score'].apply(passfail)\n",
    "bayesian_df[['math_score','math_passed','reading_score','reading_passed','writing_score','writing_passed']].head(10)"
   ]
  },
  {
   "cell_type": "markdown",
   "id": "2e622549-7a79-4c07-a072-9f9f481bd984",
   "metadata": {},
   "source": [
    "OK, that's working"
   ]
  },
  {
   "cell_type": "code",
   "execution_count": 31,
   "id": "4b96e11c-9597-4af4-bc97-87d028b743ba",
   "metadata": {},
   "outputs": [],
   "source": [
    "def pass_perc (df_in: pd.DataFrame, feature: str) -> float:\n",
    "    \n",
    "    result_col = feature + '_passed'    \n",
    "    total_scores = df_in.shape[0]    \n",
    "    passed = df_in[df_in[result_col] == 'pass'].shape[0]    \n",
    "    failed = total_scores - passed\n",
    "    \n",
    "    return passed / total_scores"
   ]
  },
  {
   "cell_type": "code",
   "execution_count": 32,
   "id": "d8fe1a41-9102-4136-863c-507e48c727f1",
   "metadata": {},
   "outputs": [
    {
     "name": "stdout",
     "output_type": "stream",
     "text": [
      "reading: 91.00%\n",
      "writing: 88.60%\n",
      "math: 86.50%\n"
     ]
    }
   ],
   "source": [
    "score_cols = ['reading', 'writing', 'math']\n",
    "base_pass_rates = {col: pass_perc(bayesian_df, col) for col in score_cols}\n",
    "for key, val in base_pass_rates.items():\n",
    "    print (f\"{key}: {100*val:.2f}%\")"
   ]
  },
  {
   "cell_type": "markdown",
   "id": "91e2cd6d-0a3a-4362-9f56-8304d5ca6aa5",
   "metadata": {},
   "source": [
    "let's one-hot encode this one"
   ]
  },
  {
   "cell_type": "markdown",
   "id": "052b45ef-c8c6-4e10-aab1-1fd068cda539",
   "metadata": {},
   "source": [
    "##### pass percentage with prep course"
   ]
  },
  {
   "cell_type": "code",
   "execution_count": 36,
   "id": "c57a5fbc-3e0e-43fc-8973-3d1be5215f6b",
   "metadata": {},
   "outputs": [
    {
     "data": {
      "text/plain": [
       "'test_preparation_course'"
      ]
     },
     "execution_count": 36,
     "metadata": {},
     "output_type": "execute_result"
    }
   ],
   "source": [
    "feature_of_interest"
   ]
  },
  {
   "cell_type": "code",
   "execution_count": 37,
   "id": "e5e25105-076b-4a5f-8638-5e01d2dd264a",
   "metadata": {},
   "outputs": [
    {
     "data": {
      "text/plain": [
       "0           none\n",
       "1      completed\n",
       "2           none\n",
       "3           none\n",
       "4           none\n",
       "         ...    \n",
       "995    completed\n",
       "996         none\n",
       "997    completed\n",
       "998    completed\n",
       "999         none\n",
       "Name: test_preparation_course, Length: 1000, dtype: object"
      ]
     },
     "execution_count": 37,
     "metadata": {},
     "output_type": "execute_result"
    }
   ],
   "source": [
    "bayesian_df[feature_of_interest]"
   ]
  },
  {
   "cell_type": "code",
   "execution_count": 38,
   "id": "70ff0826-4a2a-41b2-82c4-03ecfa498597",
   "metadata": {},
   "outputs": [],
   "source": [
    "prepped_df = bayesian_df[bayesian_df[feature_of_interest] == 'completed']"
   ]
  },
  {
   "cell_type": "code",
   "execution_count": 40,
   "id": "3b3d06c4-b1d9-40ba-a743-a37e04ac35f9",
   "metadata": {},
   "outputs": [
    {
     "name": "stdout",
     "output_type": "stream",
     "text": [
      "reading: 95.53%\n",
      "writing: 95.53%\n",
      "math: 92.18%\n"
     ]
    }
   ],
   "source": [
    "prep_pass_rates = {col: pass_perc(prepped_df, col) for col in score_cols}\n",
    "for key, val in prep_pass_rates.items():\n",
    "    print (f\"{key}: {100*val:.2f}%\")"
   ]
  },
  {
   "cell_type": "code",
   "execution_count": 42,
   "id": "b0d90475-84c4-4319-b415-0ccdde21c431",
   "metadata": {},
   "outputs": [
    {
     "data": {
      "text/plain": [
       "Text(0, 0.5, 'Percentage pass rate')"
      ]
     },
     "execution_count": 42,
     "metadata": {},
     "output_type": "execute_result"
    },
    {
     "data": {
      "image/png": "[encoded data removed]",
      "text/plain": [
       "<Figure size 1200x600 with 1 Axes>"
      ]
     },
     "metadata": {},
     "output_type": "display_data"
    }
   ],
   "source": [
    "plt.rcParams['figure.figsize'] = (12,6)\n",
    "X = np.array([1, 2, 3])\n",
    "Width = 0.1\n",
    "# plt.bar(X, np.array(list(base_pass_rates.values()))-0.1)\n",
    "plt.bar (X-Width/2, list(base_pass_rates.values()), width=Width, label = 'base pass rate')\n",
    "plt.bar (X+Width/2, list(prep_pass_rates.values()), width=Width, label = 'prepped pass rate')\n",
    "plt.xticks (X, base_pass_rates.keys())\n",
    "plt.legend()\n",
    "plt.title ('Pass rates as a function of having taken a prep course')\n",
    "plt.ylabel ('Percentage pass rate')\n",
    "         "
   ]
  },
  {
   "cell_type": "markdown",
   "id": "9c74eaba-f894-4205-bb2e-03537514dfe0",
   "metadata": {},
   "source": [
    "Definitely makes a difference, should be validated in the counterfactual"
   ]
  },
  {
   "cell_type": "markdown",
   "id": "57348519-bd75-450b-b687-b061265c57c9",
   "metadata": {},
   "source": [
    "##### pass percentage without test prep course"
   ]
  },
  {
   "cell_type": "code",
   "execution_count": 43,
   "id": "22ba781c-7f42-4e78-b72e-56596ff3c840",
   "metadata": {},
   "outputs": [],
   "source": [
    "un_prepped_df = bayesian_df[bayesian_df[feature_of_interest] == 'none'].copy()"
   ]
  },
  {
   "cell_type": "code",
   "execution_count": 44,
   "id": "3255c160-125d-44e7-83bc-1b4f80cc7190",
   "metadata": {},
   "outputs": [
    {
     "name": "stdout",
     "output_type": "stream",
     "text": [
      "reading: 88.47%\n",
      "writing: 84.74%\n",
      "math: 83.33%\n"
     ]
    }
   ],
   "source": [
    "un_prep_pass_rates = {col: pass_perc(un_prepped_df, col) for col in score_cols}\n",
    "for key, val in un_prep_pass_rates.items():\n",
    "    print (f\"{key}: {100*val:.2f}%\")"
   ]
  },
  {
   "cell_type": "code",
   "execution_count": 177,
   "id": "0660beca-942b-435c-a439-3db6bd64e907",
   "metadata": {},
   "outputs": [
    {
     "data": {
      "text/plain": [
       "Text(0, 0.5, 'Percentage pass rate')"
      ]
     },
     "execution_count": 177,
     "metadata": {},
     "output_type": "execute_result"
    },
    {
     "data": {
      "image/png": "[encoded data removed]",
      "text/plain": [
       "<Figure size 1200x600 with 1 Axes>"
      ]
     },
     "metadata": {},
     "output_type": "display_data"
    }
   ],
   "source": [
    "X = np.array([1, 2, 3])\n",
    "Width = 0.1\n",
    "# plt.bar(X, np.array(list(base_pass_rates.values()))-0.1)\n",
    "plt.bar (X-Width/2, list(base_pass_rates.values()), width=Width, label = 'base pass rate')\n",
    "plt.bar (X+Width/2, list(un_prep_pass_rates.values()), width=Width, label = 'prepped pass rate')\n",
    "plt.xticks (X, base_pass_rates.keys())\n",
    "plt.legend()\n",
    "plt.title ('Pass rates as a function of having declined a prep course')\n",
    "plt.ylabel ('Percentage pass rate')"
   ]
  },
  {
   "cell_type": "markdown",
   "id": "fa6566fe-0cfa-44a4-9090-9584072c47bf",
   "metadata": {},
   "source": [
    "Verified! <br> <br>\n",
    "Conclusion is that there should be some predictive power in the data"
   ]
  },
  {
   "cell_type": "code",
   "execution_count": 179,
   "id": "fe841114-6dd9-4889-a7b1-430cfd845ec7",
   "metadata": {},
   "outputs": [
    {
     "data": {
      "text/plain": [
       "Index(['gender', 'parental_level_of_education', 'lunch', 'math_score',\n",
       "       'reading_score', 'writing_score', 'test_preparation_course_completed',\n",
       "       'test_preparation_course_none'],\n",
       "      dtype='object')"
      ]
     },
     "execution_count": 179,
     "metadata": {},
     "output_type": "execute_result"
    }
   ],
   "source": [
    "student_df.columns"
   ]
  },
  {
   "cell_type": "code",
   "execution_count": 178,
   "id": "b80d6937-fd59-47d9-b17a-2cc51e8e5da7",
   "metadata": {},
   "outputs": [
    {
     "ename": "KeyError",
     "evalue": "'test_preparation_course'",
     "output_type": "error",
     "traceback": [
      "\u001b[1;31m---------------------------------------------------------------------------\u001b[0m",
      "\u001b[1;31mKeyError\u001b[0m                                  Traceback (most recent call last)",
      "Cell \u001b[1;32mIn[178], line 1\u001b[0m\n\u001b[1;32m----> 1\u001b[0m \u001b[43mstudent_df\u001b[49m\u001b[38;5;241;43m.\u001b[39;49m\u001b[43mgroupby\u001b[49m\u001b[43m(\u001b[49m\u001b[38;5;124;43m'\u001b[39;49m\u001b[38;5;124;43mtest_preparation_course\u001b[39;49m\u001b[38;5;124;43m'\u001b[39;49m\u001b[43m)\u001b[49m\u001b[38;5;241m.\u001b[39msize()\u001b[38;5;241m.\u001b[39mplot(kind\u001b[38;5;241m=\u001b[39m\u001b[38;5;124m'\u001b[39m\u001b[38;5;124mpie\u001b[39m\u001b[38;5;124m'\u001b[39m)\n",
      "File \u001b[1;32mC:\\PersonalProjects\\MeshTask\\.venv\\Lib\\site-packages\\pandas\\core\\frame.py:9183\u001b[0m, in \u001b[0;36mDataFrame.groupby\u001b[1;34m(self, by, axis, level, as_index, sort, group_keys, observed, dropna)\u001b[0m\n\u001b[0;32m   9180\u001b[0m \u001b[38;5;28;01mif\u001b[39;00m level \u001b[38;5;129;01mis\u001b[39;00m \u001b[38;5;28;01mNone\u001b[39;00m \u001b[38;5;129;01mand\u001b[39;00m by \u001b[38;5;129;01mis\u001b[39;00m \u001b[38;5;28;01mNone\u001b[39;00m:\n\u001b[0;32m   9181\u001b[0m     \u001b[38;5;28;01mraise\u001b[39;00m \u001b[38;5;167;01mTypeError\u001b[39;00m(\u001b[38;5;124m\"\u001b[39m\u001b[38;5;124mYou have to supply one of \u001b[39m\u001b[38;5;124m'\u001b[39m\u001b[38;5;124mby\u001b[39m\u001b[38;5;124m'\u001b[39m\u001b[38;5;124m and \u001b[39m\u001b[38;5;124m'\u001b[39m\u001b[38;5;124mlevel\u001b[39m\u001b[38;5;124m'\u001b[39m\u001b[38;5;124m\"\u001b[39m)\n\u001b[1;32m-> 9183\u001b[0m \u001b[38;5;28;01mreturn\u001b[39;00m \u001b[43mDataFrameGroupBy\u001b[49m\u001b[43m(\u001b[49m\n\u001b[0;32m   9184\u001b[0m \u001b[43m    \u001b[49m\u001b[43mobj\u001b[49m\u001b[38;5;241;43m=\u001b[39;49m\u001b[38;5;28;43mself\u001b[39;49m\u001b[43m,\u001b[49m\n\u001b[0;32m   9185\u001b[0m \u001b[43m    \u001b[49m\u001b[43mkeys\u001b[49m\u001b[38;5;241;43m=\u001b[39;49m\u001b[43mby\u001b[49m\u001b[43m,\u001b[49m\n\u001b[0;32m   9186\u001b[0m \u001b[43m    \u001b[49m\u001b[43maxis\u001b[49m\u001b[38;5;241;43m=\u001b[39;49m\u001b[43maxis\u001b[49m\u001b[43m,\u001b[49m\n\u001b[0;32m   9187\u001b[0m \u001b[43m    \u001b[49m\u001b[43mlevel\u001b[49m\u001b[38;5;241;43m=\u001b[39;49m\u001b[43mlevel\u001b[49m\u001b[43m,\u001b[49m\n\u001b[0;32m   9188\u001b[0m \u001b[43m    \u001b[49m\u001b[43mas_index\u001b[49m\u001b[38;5;241;43m=\u001b[39;49m\u001b[43mas_index\u001b[49m\u001b[43m,\u001b[49m\n\u001b[0;32m   9189\u001b[0m \u001b[43m    \u001b[49m\u001b[43msort\u001b[49m\u001b[38;5;241;43m=\u001b[39;49m\u001b[43msort\u001b[49m\u001b[43m,\u001b[49m\n\u001b[0;32m   9190\u001b[0m \u001b[43m    \u001b[49m\u001b[43mgroup_keys\u001b[49m\u001b[38;5;241;43m=\u001b[39;49m\u001b[43mgroup_keys\u001b[49m\u001b[43m,\u001b[49m\n\u001b[0;32m   9191\u001b[0m \u001b[43m    \u001b[49m\u001b[43mobserved\u001b[49m\u001b[38;5;241;43m=\u001b[39;49m\u001b[43mobserved\u001b[49m\u001b[43m,\u001b[49m\n\u001b[0;32m   9192\u001b[0m \u001b[43m    \u001b[49m\u001b[43mdropna\u001b[49m\u001b[38;5;241;43m=\u001b[39;49m\u001b[43mdropna\u001b[49m\u001b[43m,\u001b[49m\n\u001b[0;32m   9193\u001b[0m \u001b[43m\u001b[49m\u001b[43m)\u001b[49m\n",
      "File \u001b[1;32mC:\\PersonalProjects\\MeshTask\\.venv\\Lib\\site-packages\\pandas\\core\\groupby\\groupby.py:1329\u001b[0m, in \u001b[0;36mGroupBy.__init__\u001b[1;34m(self, obj, keys, axis, level, grouper, exclusions, selection, as_index, sort, group_keys, observed, dropna)\u001b[0m\n\u001b[0;32m   1326\u001b[0m \u001b[38;5;28mself\u001b[39m\u001b[38;5;241m.\u001b[39mdropna \u001b[38;5;241m=\u001b[39m dropna\n\u001b[0;32m   1328\u001b[0m \u001b[38;5;28;01mif\u001b[39;00m grouper \u001b[38;5;129;01mis\u001b[39;00m \u001b[38;5;28;01mNone\u001b[39;00m:\n\u001b[1;32m-> 1329\u001b[0m     grouper, exclusions, obj \u001b[38;5;241m=\u001b[39m \u001b[43mget_grouper\u001b[49m\u001b[43m(\u001b[49m\n\u001b[0;32m   1330\u001b[0m \u001b[43m        \u001b[49m\u001b[43mobj\u001b[49m\u001b[43m,\u001b[49m\n\u001b[0;32m   1331\u001b[0m \u001b[43m        \u001b[49m\u001b[43mkeys\u001b[49m\u001b[43m,\u001b[49m\n\u001b[0;32m   1332\u001b[0m \u001b[43m        \u001b[49m\u001b[43maxis\u001b[49m\u001b[38;5;241;43m=\u001b[39;49m\u001b[43maxis\u001b[49m\u001b[43m,\u001b[49m\n\u001b[0;32m   1333\u001b[0m \u001b[43m        \u001b[49m\u001b[43mlevel\u001b[49m\u001b[38;5;241;43m=\u001b[39;49m\u001b[43mlevel\u001b[49m\u001b[43m,\u001b[49m\n\u001b[0;32m   1334\u001b[0m \u001b[43m        \u001b[49m\u001b[43msort\u001b[49m\u001b[38;5;241;43m=\u001b[39;49m\u001b[43msort\u001b[49m\u001b[43m,\u001b[49m\n\u001b[0;32m   1335\u001b[0m \u001b[43m        \u001b[49m\u001b[43mobserved\u001b[49m\u001b[38;5;241;43m=\u001b[39;49m\u001b[38;5;28;43;01mFalse\u001b[39;49;00m\u001b[43m \u001b[49m\u001b[38;5;28;43;01mif\u001b[39;49;00m\u001b[43m \u001b[49m\u001b[43mobserved\u001b[49m\u001b[43m \u001b[49m\u001b[38;5;129;43;01mis\u001b[39;49;00m\u001b[43m \u001b[49m\u001b[43mlib\u001b[49m\u001b[38;5;241;43m.\u001b[39;49m\u001b[43mno_default\u001b[49m\u001b[43m \u001b[49m\u001b[38;5;28;43;01melse\u001b[39;49;00m\u001b[43m \u001b[49m\u001b[43mobserved\u001b[49m\u001b[43m,\u001b[49m\n\u001b[0;32m   1336\u001b[0m \u001b[43m        \u001b[49m\u001b[43mdropna\u001b[49m\u001b[38;5;241;43m=\u001b[39;49m\u001b[38;5;28;43mself\u001b[39;49m\u001b[38;5;241;43m.\u001b[39;49m\u001b[43mdropna\u001b[49m\u001b[43m,\u001b[49m\n\u001b[0;32m   1337\u001b[0m \u001b[43m    \u001b[49m\u001b[43m)\u001b[49m\n\u001b[0;32m   1339\u001b[0m \u001b[38;5;28;01mif\u001b[39;00m observed \u001b[38;5;129;01mis\u001b[39;00m lib\u001b[38;5;241m.\u001b[39mno_default:\n\u001b[0;32m   1340\u001b[0m     \u001b[38;5;28;01mif\u001b[39;00m \u001b[38;5;28many\u001b[39m(ping\u001b[38;5;241m.\u001b[39m_passed_categorical \u001b[38;5;28;01mfor\u001b[39;00m ping \u001b[38;5;129;01min\u001b[39;00m grouper\u001b[38;5;241m.\u001b[39mgroupings):\n",
      "File \u001b[1;32mC:\\PersonalProjects\\MeshTask\\.venv\\Lib\\site-packages\\pandas\\core\\groupby\\grouper.py:1043\u001b[0m, in \u001b[0;36mget_grouper\u001b[1;34m(obj, key, axis, level, sort, observed, validate, dropna)\u001b[0m\n\u001b[0;32m   1041\u001b[0m         in_axis, level, gpr \u001b[38;5;241m=\u001b[39m \u001b[38;5;28;01mFalse\u001b[39;00m, gpr, \u001b[38;5;28;01mNone\u001b[39;00m\n\u001b[0;32m   1042\u001b[0m     \u001b[38;5;28;01melse\u001b[39;00m:\n\u001b[1;32m-> 1043\u001b[0m         \u001b[38;5;28;01mraise\u001b[39;00m \u001b[38;5;167;01mKeyError\u001b[39;00m(gpr)\n\u001b[0;32m   1044\u001b[0m \u001b[38;5;28;01melif\u001b[39;00m \u001b[38;5;28misinstance\u001b[39m(gpr, Grouper) \u001b[38;5;129;01mand\u001b[39;00m gpr\u001b[38;5;241m.\u001b[39mkey \u001b[38;5;129;01mis\u001b[39;00m \u001b[38;5;129;01mnot\u001b[39;00m \u001b[38;5;28;01mNone\u001b[39;00m:\n\u001b[0;32m   1045\u001b[0m     \u001b[38;5;66;03m# Add key to exclusions\u001b[39;00m\n\u001b[0;32m   1046\u001b[0m     exclusions\u001b[38;5;241m.\u001b[39madd(gpr\u001b[38;5;241m.\u001b[39mkey)\n",
      "\u001b[1;31mKeyError\u001b[0m: 'test_preparation_course'"
     ]
    }
   ],
   "source": [
    "student_df.groupby('test_preparation_course').size().plot(kind='pie')"
   ]
  },
  {
   "cell_type": "code",
   "execution_count": null,
   "id": "153c7681-6612-4c6e-93c1-580b4fb1a976",
   "metadata": {},
   "outputs": [],
   "source": [
    "student_df = one_hot_encode_feature(student_df, feature_of_interest)\n",
    "student_df.head()"
   ]
  },
  {
   "cell_type": "markdown",
   "id": "e26cccec-a306-4a89-9914-fd15925e53c0",
   "metadata": {},
   "source": [
    "#### Math Score"
   ]
  },
  {
   "cell_type": "code",
   "execution_count": null,
   "id": "20a512ed-b2e2-4b18-a6f3-2cad5678c066",
   "metadata": {},
   "outputs": [],
   "source": [
    "feature_of_interest = student_df.columns[3]\n",
    "feature_of_interest"
   ]
  },
  {
   "cell_type": "code",
   "execution_count": null,
   "id": "d63ddd44-8af5-4cba-87e3-59345e9ec467",
   "metadata": {},
   "outputs": [],
   "source": [
    "student_df[feature_of_interest].describe()"
   ]
  },
  {
   "cell_type": "code",
   "execution_count": null,
   "id": "9f1fa007-5f70-4c12-9317-dd4335597d1d",
   "metadata": {},
   "outputs": [],
   "source": [
    "student_df[feature_of_interest].hist(bins=20)\n",
    "plt.title('Math Score distribution')"
   ]
  },
  {
   "cell_type": "markdown",
   "id": "396752bf-e5c9-41f3-8636-51bba49e4ebe",
   "metadata": {},
   "source": [
    "Nothing worrying about this distribution"
   ]
  },
  {
   "cell_type": "markdown",
   "id": "ff3bd5d5-93ab-40b2-a13c-a6fcf2129963",
   "metadata": {},
   "source": [
    "#### Reading Score"
   ]
  },
  {
   "cell_type": "code",
   "execution_count": null,
   "id": "56ada239-65be-40a5-8878-5e5819689b10",
   "metadata": {},
   "outputs": [],
   "source": [
    "feature_of_interest = student_df.columns[4]\n",
    "feature_of_interest"
   ]
  },
  {
   "cell_type": "code",
   "execution_count": null,
   "id": "ac9ef5d7-bb52-47b5-afbc-ed50479b40c7",
   "metadata": {},
   "outputs": [],
   "source": [
    "student_df[feature_of_interest].describe()"
   ]
  },
  {
   "cell_type": "code",
   "execution_count": null,
   "id": "47df425d-58d9-49db-8c54-aba2dbde0fea",
   "metadata": {},
   "outputs": [],
   "source": [
    "student_df[feature_of_interest].hist(bins=20)\n",
    "plt.title ('Reading Score distribution')"
   ]
  },
  {
   "cell_type": "markdown",
   "id": "87db304c-d3a0-479f-a267-0c1b5bbcbf62",
   "metadata": {},
   "source": [
    "Interesting. longer left-hand tail on reading, honestly quite surprising"
   ]
  },
  {
   "cell_type": "markdown",
   "id": "8befecad-2d86-4e4b-80a3-fc0972925045",
   "metadata": {},
   "source": [
    "#### Writing Score"
   ]
  },
  {
   "cell_type": "code",
   "execution_count": null,
   "id": "424a63c5-d038-44cf-a1e4-f72bb455e4ec",
   "metadata": {},
   "outputs": [],
   "source": [
    "feature_of_interest = student_df.columns[5]\n",
    "feature_of_interest"
   ]
  },
  {
   "cell_type": "code",
   "execution_count": null,
   "id": "ad97e2dd-3990-452b-8fd0-6bbfb8e82afa",
   "metadata": {},
   "outputs": [],
   "source": [
    "student_df[feature_of_interest].describe()"
   ]
  },
  {
   "cell_type": "code",
   "execution_count": null,
   "id": "4618ae6c-4e29-4ac1-8c45-b40c1674b51c",
   "metadata": {},
   "outputs": [],
   "source": [
    "student_df[feature_of_interest].hist(bins=20)\n",
    "plt.title('Writing Score')"
   ]
  },
  {
   "cell_type": "markdown",
   "id": "26ab7fc0-6a5e-42b4-be73-59c61ae6bc12",
   "metadata": {},
   "source": [
    "Similar distribution to reading, as would be expected. Also showing the same long left-hand tail"
   ]
  },
  {
   "cell_type": "markdown",
   "id": "7e462971-ba1a-45fe-a822-bc6190c519bf",
   "metadata": {},
   "source": [
    "No outliers in any of the numerical scores, no data cleaning to be done."
   ]
  },
  {
   "cell_type": "markdown",
   "id": "e8ca4d46-cae5-4e2c-8db5-d7b2e0b37577",
   "metadata": {},
   "source": [
    "## Feature Engineering"
   ]
  },
  {
   "cell_type": "markdown",
   "id": "94a0dc5b-2121-4c86-9039-c6f3e2965345",
   "metadata": {},
   "source": [
    "We are looking to predict each of the three scores to see if there's any useful predictive power. "
   ]
  },
  {
   "cell_type": "code",
   "execution_count": null,
   "id": "dddb9be2-aa16-4910-b5a1-745be58a9a34",
   "metadata": {},
   "outputs": [],
   "source": [
    "student_df.head()"
   ]
  },
  {
   "cell_type": "markdown",
   "id": "bc14d4ed-59b9-43ba-89a0-6d35b46cd5a3",
   "metadata": {},
   "source": [
    "### one-hot encode gender"
   ]
  },
  {
   "cell_type": "markdown",
   "id": "74c00643-7087-4827-a8d3-0e5a403402cd",
   "metadata": {},
   "source": [
    "Gender has no ordinal properties, and so should be one-hot-encoded"
   ]
  },
  {
   "cell_type": "code",
   "execution_count": null,
   "id": "e474970e-529f-4ebc-a774-924136e749a8",
   "metadata": {},
   "outputs": [],
   "source": [
    "from FeatureEngineering import one_hot_encode_feature"
   ]
  },
  {
   "cell_type": "code",
   "execution_count": null,
   "id": "63b6da26-d8cd-452a-aa6b-79bd9f8cdeb6",
   "metadata": {},
   "outputs": [],
   "source": [
    "df_gend = one_hot_encode_feature(student_df, 'gender')\n",
    "df_gend.head()"
   ]
  },
  {
   "cell_type": "markdown",
   "id": "077f33e0-a4a4-4f84-9a94-62b3c489ac84",
   "metadata": {},
   "source": [
    "### Ordinal encode lunch"
   ]
  },
  {
   "cell_type": "markdown",
   "id": "dd1dfc30-e40d-450b-b387-a490d656059d",
   "metadata": {},
   "source": [
    "There is clearly a 'better' version of this, so encode in an ordinal fashion, similar to how we've managed<br>\n",
    "the parental level of education"
   ]
  },
  {
   "cell_type": "code",
   "execution_count": null,
   "id": "3a1297d2-b651-4219-be98-12b1e3a6220f",
   "metadata": {},
   "outputs": [],
   "source": [
    "lunch_values = df_gend.lunch.unique()\n",
    "lunch_values"
   ]
  },
  {
   "cell_type": "code",
   "execution_count": null,
   "id": "e271ef4a-d101-4aca-868e-d0c25d15d445",
   "metadata": {},
   "outputs": [],
   "source": [
    "lunch_dict = {lunch_values[1]: 0,\n",
    "              lunch_values[0]: 1}\n",
    "lunch_dict"
   ]
  },
  {
   "cell_type": "code",
   "execution_count": null,
   "id": "cc5c1c31-0d35-4a55-9b4f-586f5366a2b2",
   "metadata": {},
   "outputs": [],
   "source": [
    "df_lunch = ordinal_encode_feature(df_gend, 'lunch', lunch_dict)\n",
    "df_lunch.head()"
   ]
  },
  {
   "cell_type": "markdown",
   "id": "f155a394-7ca6-45f2-b631-f488b860bc2f",
   "metadata": {},
   "source": [
    "### Reorder to keep the target variable(s) on the right"
   ]
  },
  {
   "cell_type": "code",
   "execution_count": null,
   "id": "e2e2e336-e52c-4ce1-ad8b-e8d2dfa4c814",
   "metadata": {},
   "outputs": [],
   "source": [
    "from FeatureEngineering import move_features_to_end"
   ]
  },
  {
   "cell_type": "code",
   "execution_count": null,
   "id": "7343d6d1-5fd3-4320-91f5-58eb6d44b284",
   "metadata": {},
   "outputs": [],
   "source": [
    "target_features = ['math_score', 'reading_score', 'writing_score']\n",
    "df_reshaped = move_features_to_end(df_lunch, target_features)\n",
    "df_reshaped.head()"
   ]
  },
  {
   "cell_type": "markdown",
   "id": "4055523d-fe66-4810-8f2e-51c9f520cbed",
   "metadata": {},
   "source": [
    "Excellent, time for the data processing"
   ]
  },
  {
   "cell_type": "markdown",
   "id": "6fd52630-a1b7-46a0-ace4-3dccb3d487e0",
   "metadata": {},
   "source": [
    "## Data Processing"
   ]
  },
  {
   "cell_type": "markdown",
   "id": "3bbb9bd9-c451-45d1-9175-a5e4e5a0d14c",
   "metadata": {},
   "source": [
    "### extract numpy array"
   ]
  },
  {
   "cell_type": "code",
   "execution_count": null,
   "id": "6e893d14-7986-4e4d-a9c5-159423abb5af",
   "metadata": {},
   "outputs": [],
   "source": [
    "from DataProcessing import extract_data"
   ]
  },
  {
   "cell_type": "code",
   "execution_count": null,
   "id": "60ddc9d1-8e59-4609-bb86-300feb64c725",
   "metadata": {},
   "outputs": [],
   "source": [
    "FA = extract_data(df_reshaped)"
   ]
  },
  {
   "cell_type": "markdown",
   "id": "7525e92a-6e02-4b77-ab5c-dd5fc82d7c48",
   "metadata": {},
   "source": [
    "### scale data"
   ]
  },
  {
   "cell_type": "markdown",
   "id": "457d7006-a4e2-4360-a724-53d0564beb3a",
   "metadata": {},
   "source": [
    "Data needs to be scaled, lets do it"
   ]
  },
  {
   "cell_type": "code",
   "execution_count": null,
   "id": "5aa8227e-8a9a-4985-9118-fdef43c869c6",
   "metadata": {},
   "outputs": [],
   "source": [
    "from DataProcessing import scale_data, split_data, create_input_target"
   ]
  },
  {
   "cell_type": "code",
   "execution_count": null,
   "id": "ad66ba59-14d6-40b1-8713-3466bb68b9ed",
   "metadata": {},
   "outputs": [],
   "source": [
    "scaled_data, scaler = scale_data(FA)"
   ]
  },
  {
   "cell_type": "markdown",
   "id": "c0b0587b-647d-494a-9d6b-e53732c6e775",
   "metadata": {},
   "source": [
    "### Separate into training, validation and testing"
   ]
  },
  {
   "cell_type": "code",
   "execution_count": null,
   "id": "71bf4d4c-8369-41dc-b16b-8d5443f1eed4",
   "metadata": {},
   "outputs": [],
   "source": [
    "train_data, val_data, test_data = split_data(scaled_data)"
   ]
  },
  {
   "cell_type": "code",
   "execution_count": null,
   "id": "7b8f035a-5207-4378-99db-7a632a3d9e08",
   "metadata": {},
   "outputs": [],
   "source": [
    "for dat in (train_data, test_data, val_data):\n",
    "    print(dat.shape)"
   ]
  },
  {
   "cell_type": "markdown",
   "id": "32e1bd0c-113b-44f7-a9b2-d457a9ce5fd4",
   "metadata": {},
   "source": [
    "### create training and target matrices / vectors"
   ]
  },
  {
   "cell_type": "markdown",
   "id": "543459d7-09c6-4f29-b298-f12598e48881",
   "metadata": {},
   "source": [
    "default target is the last column, so this is training for writing score"
   ]
  },
  {
   "cell_type": "code",
   "execution_count": null,
   "id": "21f6eee1-aeee-45e0-9a25-2034610c46fa",
   "metadata": {},
   "outputs": [],
   "source": [
    "train_x, train_y = create_input_target(train_data)\n",
    "val_x, val_y = create_input_target(val_data)\n",
    "test_x, test_y = create_input_target(test_data)"
   ]
  },
  {
   "cell_type": "markdown",
   "id": "d60c10ae-535d-4193-ba80-2d94293d718a",
   "metadata": {},
   "source": [
    "## Model!"
   ]
  },
  {
   "cell_type": "markdown",
   "id": "56fbfbd8-11f4-45ef-ad72-140b8b55c409",
   "metadata": {},
   "source": [
    "### Build a model"
   ]
  },
  {
   "cell_type": "code",
   "execution_count": null,
   "id": "d76f2133-7ed2-4355-aa93-555d4e2df557",
   "metadata": {},
   "outputs": [],
   "source": [
    "from Modelling import create_feedforward_network"
   ]
  },
  {
   "cell_type": "code",
   "execution_count": null,
   "id": "fca90287-fea5-400d-aceb-ff867d1a3074",
   "metadata": {},
   "outputs": [],
   "source": [
    "NN = create_feedforward_network(train_x.shape[1], width = 10, depth = 5)"
   ]
  },
  {
   "cell_type": "code",
   "execution_count": null,
   "id": "c41e9a61-e07a-41e2-9de7-c7a79fbed004",
   "metadata": {},
   "outputs": [],
   "source": [
    "NN.summary()"
   ]
  },
  {
   "cell_type": "markdown",
   "id": "3e0bf06b-c2dd-4c58-97a7-8f73ec57d2e6",
   "metadata": {},
   "source": [
    "### Train network"
   ]
  },
  {
   "cell_type": "code",
   "execution_count": null,
   "id": "69bd2979-1c9b-4006-829d-f2bb9ab429ac",
   "metadata": {},
   "outputs": [],
   "source": [
    "history = NN.fit(x=train_x, y=train_y, validation_data=(val_x, val_y), epochs = 200)"
   ]
  },
  {
   "cell_type": "code",
   "execution_count": null,
   "id": "6cdfce1e-6a55-4881-81a6-96389d314376",
   "metadata": {},
   "outputs": [],
   "source": [
    "history.history.keys()"
   ]
  },
  {
   "cell_type": "markdown",
   "id": "f23e02bc-0af2-4145-9553-d41af4a8ca2a",
   "metadata": {},
   "source": [
    "### Evaluation"
   ]
  },
  {
   "cell_type": "code",
   "execution_count": null,
   "id": "b7763333-523b-4a39-9e48-498448ff20dc",
   "metadata": {},
   "outputs": [],
   "source": [
    "plt.rcParams['figure.figsize'] = (12,6)\n",
    "plt.plot(history.history['loss'], label = 'training data')\n",
    "plt.plot(history.history['val_loss'], label = 'validation data')\n",
    "plt.title ('training loss for predicting writing score')\n",
    "plt.ylabel('mse')\n",
    "plt.xlabel('epoch')"
   ]
  },
  {
   "cell_type": "markdown",
   "id": "de6105c8-d9be-4c28-bfa6-c31a4b30c4e7",
   "metadata": {},
   "source": [
    "Good news is that we're not overfitting. Let's see if we can do better..."
   ]
  },
  {
   "cell_type": "code",
   "execution_count": null,
   "id": "7f152f13-b5e6-4ec8-b7fd-3f144a0e537e",
   "metadata": {},
   "outputs": [],
   "source": [
    "NN_bigger = create_feedforward_network(input_dim=train_x.shape[1], width = 10, depth = 10)"
   ]
  },
  {
   "cell_type": "code",
   "execution_count": null,
   "id": "69154aa3-782d-4ae7-9d02-0e11a22ab4f8",
   "metadata": {
    "scrolled": true
   },
   "outputs": [],
   "source": [
    "history = NN_bigger.fit(x=train_x, y=train_y, validation_data=(val_x, val_y), epochs = 200)"
   ]
  },
  {
   "cell_type": "code",
   "execution_count": null,
   "id": "672c9fe6-e36f-4f30-b272-cdd388d3e6b8",
   "metadata": {},
   "outputs": [],
   "source": [
    "plt.rcParams['figure.figsize'] = (12,6)\n",
    "plt.plot(history.history['loss'], label = 'training data')\n",
    "plt.plot(history.history['val_loss'], label = 'validation data')\n",
    "plt.title ('training loss for predicting writing score')\n",
    "plt.legend()\n",
    "plt.ylabel('mse')\n",
    "plt.xlabel('epoch')"
   ]
  },
  {
   "cell_type": "markdown",
   "id": "28887bea-15ff-4638-ae80-0c1dbe183d39",
   "metadata": {},
   "source": [
    "No appreciable difference, so lets look at the results"
   ]
  },
  {
   "cell_type": "code",
   "execution_count": null,
   "id": "c222c55d-7866-4ecc-9a13-cd3f765e3120",
   "metadata": {},
   "outputs": [],
   "source": [
    "test_predictions = NN.predict(val_x)"
   ]
  },
  {
   "cell_type": "code",
   "execution_count": null,
   "id": "a3eeed8f-1a94-42b2-bff8-546b4299e215",
   "metadata": {},
   "outputs": [],
   "source": [
    "plt.plot(val_y, test_predictions, 'o', label = 'evaluations')\n",
    "line = [val_y.min(), val_y.max()]\n",
    "plt.plot(line, line, label = 'perfect prediction line')\n",
    "plt.legend()\n",
    "plt.xlabel('actual')\n",
    "plt.ylabel('prediction')\n",
    "plt.title('Simple Neural Network')"
   ]
  },
  {
   "cell_type": "markdown",
   "id": "ca191364-0464-45a4-a918-261a2b19167a",
   "metadata": {},
   "source": [
    "This is telling us we have a VERY poor predictor. Time to re-evaluate our feature engineering and assumptions"
   ]
  },
  {
   "cell_type": "code",
   "execution_count": null,
   "id": "b1dc3e18-0146-4ebd-9ad1-c2b2119deaf6",
   "metadata": {},
   "outputs": [],
   "source": [
    "from sklearn.ensemble import RandomForestRegressor"
   ]
  },
  {
   "cell_type": "code",
   "execution_count": null,
   "id": "8f26fbd0-3740-448b-990c-03b9bbc6908c",
   "metadata": {},
   "outputs": [],
   "source": [
    "Tree = RandomForestRegressor()"
   ]
  },
  {
   "cell_type": "code",
   "execution_count": null,
   "id": "e02dfa60-519f-4d51-92fe-8b25b479015f",
   "metadata": {},
   "outputs": [],
   "source": [
    "Tree.fit(train_x, train_y)"
   ]
  },
  {
   "cell_type": "code",
   "execution_count": null,
   "id": "f3ba23c7-7211-4e3d-9139-ef628084e897",
   "metadata": {},
   "outputs": [],
   "source": [
    "tree_predict = Tree.predict(val_x)"
   ]
  },
  {
   "cell_type": "code",
   "execution_count": null,
   "id": "0b0b8850-4d18-4e39-8dec-caa43df1b693",
   "metadata": {},
   "outputs": [],
   "source": [
    "plt.plot(val_y, tree_predict, 'o', label = 'evaluations')\n",
    "line = [val_y.min(), val_y.max()]\n",
    "plt.plot(line, line, label = 'perfect prediction line')\n",
    "plt.legend()\n",
    "plt.xlabel('actual')\n",
    "plt.ylabel('prediction')\n",
    "plt.title('Random Forest')"
   ]
  },
  {
   "cell_type": "markdown",
   "id": "f8283b68-0c4e-48d5-b7c9-eecd6f8cee45",
   "metadata": {},
   "source": [
    "Evidence that our problem is not the modelling method, but the data representation / assumptions"
   ]
  },
  {
   "cell_type": "markdown",
   "id": "d4135c03-70e1-4b08-8d3e-84357fa284e2",
   "metadata": {},
   "source": [
    "Any better for maths?"
   ]
  },
  {
   "cell_type": "code",
   "execution_count": null,
   "id": "62585288-66e0-4ecd-a5f0-0c147a10d9a9",
   "metadata": {},
   "outputs": [],
   "source": [
    "Tree.score(train_x, train_y)"
   ]
  },
  {
   "cell_type": "markdown",
   "id": "32f618c3-2a16-46e0-ae31-a9f335ce957a",
   "metadata": {},
   "source": [
    "## Model maths"
   ]
  },
  {
   "cell_type": "markdown",
   "id": "9c06dc4f-a3e6-41ba-9257-1bbe2492b1d0",
   "metadata": {},
   "source": [
    "### Build a model"
   ]
  },
  {
   "cell_type": "code",
   "execution_count": null,
   "id": "8a23c83b-8dbe-4d88-89f1-14cd9b917c1f",
   "metadata": {},
   "outputs": [],
   "source": [
    "train_data, val_data, test_data = split_data(scaled_data, )"
   ]
  },
  {
   "cell_type": "code",
   "execution_count": null,
   "id": "ac17b659-c50e-451b-8f0c-f2812ade6a6f",
   "metadata": {},
   "outputs": [],
   "source": [
    "maths_Tree = RandomForestRegressor()"
   ]
  },
  {
   "cell_type": "markdown",
   "id": "62ca87bc-3052-4a2a-b311-aec863a1d8ce",
   "metadata": {},
   "source": [
    "### Train"
   ]
  },
  {
   "cell_type": "code",
   "execution_count": null,
   "id": "613ad2ee-713c-4e4d-ab10-b18024c283c4",
   "metadata": {},
   "outputs": [],
   "source": [
    "df_reshaped.columns"
   ]
  },
  {
   "cell_type": "code",
   "execution_count": null,
   "id": "adbb86ef-ffce-40d7-832c-8b1c6363a80f",
   "metadata": {},
   "outputs": [],
   "source": [
    "tgt = -3\n",
    "train_x, train_y = create_input_target(train_data, tgt)\n",
    "val_x, val_y = create_input_target(val_data, tgt)\n",
    "test_x, test_y = create_input_target(test_data, tgt)"
   ]
  },
  {
   "cell_type": "code",
   "execution_count": null,
   "id": "f2ac3c1f-293c-43e9-b4e4-317279fcaf22",
   "metadata": {},
   "outputs": [],
   "source": [
    "Tree=RandomForestRegressor()\n",
    "Tree.fit(train_x, train_y)"
   ]
  },
  {
   "cell_type": "markdown",
   "id": "9ef04e90-c3df-407b-a937-07382ce1f3aa",
   "metadata": {},
   "source": [
    "### Evaluate"
   ]
  },
  {
   "cell_type": "code",
   "execution_count": null,
   "id": "539e0502-1766-45a6-a769-62aa56a38da1",
   "metadata": {},
   "outputs": [],
   "source": [
    "Tree.score(val_x, val_y)"
   ]
  },
  {
   "cell_type": "code",
   "execution_count": null,
   "id": "5ba30f9b-4cbf-47a4-b210-189143a67386",
   "metadata": {},
   "outputs": [],
   "source": [
    "tree_predict = Tree.predict(val_x)"
   ]
  },
  {
   "cell_type": "code",
   "execution_count": null,
   "id": "8469296f-c8de-41d2-bb79-6400247b98fa",
   "metadata": {},
   "outputs": [],
   "source": [
    "plt.plot(val_y, tree_predict, 'o', label = 'evaluations')\n",
    "line = [val_y.min(), val_y.max()]\n",
    "plt.plot(line, line, label = 'perfect prediction line')\n",
    "plt.legend()\n",
    "plt.xlabel('actual')\n",
    "plt.ylabel('prediction')\n",
    "plt.title('Random Forest')"
   ]
  },
  {
   "cell_type": "markdown",
   "id": "4501e1bd-c0b3-4a91-a463-e0e0bc69ac76",
   "metadata": {},
   "source": [
    "Not a particularly great output. Makes some challenging notes about the relationships of the features <br>\n",
    "I would as a further exercise investigate whether the data is sufficient to solve the classification problem <br>\n",
    "(aka pass / fail, or A / B / C / D / Fail) as that is more forgiving than the regression problem"
   ]
  }
 ],
 "metadata": {
  "kernelspec": {
   "display_name": "MeshEnv",
   "language": "python",
   "name": "meshenv"
  },
  "language_info": {
   "codemirror_mode": {
    "name": "ipython",
    "version": 3
   },
   "file_extension": ".py",
   "mimetype": "text/x-python",
   "name": "python",
   "nbconvert_exporter": "python",
   "pygments_lexer": "ipython3",
   "version": "3.11.5"
  }
 },
 "nbformat": 4,
 "nbformat_minor": 5
}
